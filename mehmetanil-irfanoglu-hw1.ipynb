{
 "cells": [
  {
   "cell_type": "code",
   "execution_count": 1,
   "id": "39a27563",
   "metadata": {
    "execution": {
     "iopub.execute_input": "2022-05-19T20:41:36.212262Z",
     "iopub.status.busy": "2022-05-19T20:41:36.211776Z",
     "iopub.status.idle": "2022-05-19T20:41:37.459578Z",
     "shell.execute_reply": "2022-05-19T20:41:37.458686Z"
    },
    "papermill": {
     "duration": 1.271872,
     "end_time": "2022-05-19T20:41:37.462295",
     "exception": false,
     "start_time": "2022-05-19T20:41:36.190423",
     "status": "completed"
    },
    "tags": []
   },
   "outputs": [
    {
     "name": "stdout",
     "output_type": "stream",
     "text": [
      "(1460, 80)\n",
      "(1459, 79)\n",
      "(1460, 80)\n"
     ]
    }
   ],
   "source": [
    "import pandas as pd\n",
    "from sklearn.model_selection import train_test_split\n",
    "\n",
    "# Read the data\n",
    "X = pd.read_csv('../input/housing-prices-competition-for-kaggle-learn-users/train.csv', index_col='Id') \n",
    "X_test = pd.read_csv('../input/housing-prices-competition-for-kaggle-learn-users/test.csv', index_col='Id')\n",
    "\n",
    "print(X.shape)\n",
    "print(X_test.shape)\n",
    "\n",
    "#Q1: Remove rows with missing target, separate target from predictors\n",
    "X.dropna(axis=0, subset=['SalePrice'], inplace=True)\n",
    "print(X.shape)\n",
    "\n",
    "#Q2: Separate target from predictors (i.e. input features)\n",
    "y = X.SalePrice\n",
    "X.drop(['SalePrice'], axis=1, inplace=True)"
   ]
  },
  {
   "cell_type": "code",
   "execution_count": 2,
   "id": "1727522c",
   "metadata": {
    "execution": {
     "iopub.execute_input": "2022-05-19T20:41:37.500690Z",
     "iopub.status.busy": "2022-05-19T20:41:37.500314Z",
     "iopub.status.idle": "2022-05-19T20:41:37.777335Z",
     "shell.execute_reply": "2022-05-19T20:41:37.776378Z"
    },
    "papermill": {
     "duration": 0.29883,
     "end_time": "2022-05-19T20:41:37.779697",
     "exception": false,
     "start_time": "2022-05-19T20:41:37.480867",
     "status": "completed"
    },
    "tags": []
   },
   "outputs": [
    {
     "name": "stdout",
     "output_type": "stream",
     "text": [
      "Categorical columns that will be ordinal encoded: ['Street', 'Alley', 'LotShape', 'LandContour', 'LotConfig', 'LandSlope', 'Neighborhood', 'Condition1', 'Condition2', 'BldgType', 'HouseStyle', 'RoofStyle', 'RoofMatl', 'MasVnrType', 'ExterQual', 'ExterCond', 'Foundation', 'BsmtQual', 'BsmtCond', 'BsmtExposure', 'BsmtFinType1', 'BsmtFinType2', 'Heating', 'HeatingQC', 'CentralAir', 'Electrical', 'FireplaceQu', 'GarageType', 'GarageFinish', 'GarageQual', 'GarageCond', 'PavedDrive', 'PoolQC', 'Fence', 'MiscFeature', 'SaleCondition']\n",
      "\n",
      "Categorical columns that will be dropped from the dataset: ['SaleType', 'Exterior2nd', 'Functional', 'MSZoning', 'KitchenQual', 'Utilities', 'Exterior1st']\n"
     ]
    }
   ],
   "source": [
    "#Q3: Perform ordinal encoding to categorical feature columns \n",
    "from sklearn.preprocessing import OrdinalEncoder\n",
    "\n",
    "# Get the columns that contain strings and treat them as categorical\n",
    "object_cols = [col for col in X.columns if X[col].dtype == \"object\"]\n",
    "\n",
    "# Columns that can be safely ordinal encoded\n",
    "good_label_cols = [col for col in object_cols if \n",
    "                   set(X_test[col]).issubset(set(X[col]))]\n",
    "        \n",
    "# Problematic columns that will be dropped from the dataset\n",
    "bad_label_cols = list(set(object_cols)-set(good_label_cols))\n",
    "\n",
    "print('Categorical columns that will be ordinal encoded:', good_label_cols)\n",
    "print('\\nCategorical columns that will be dropped from the dataset:', bad_label_cols)\n",
    "\n",
    "# Drop categorical columns that will not be encoded\n",
    "X_train_ordinal = X.drop(bad_label_cols, axis=1)\n",
    "X_test_ordinal = X_test.drop(bad_label_cols, axis=1)\n",
    "\n",
    "# Apply ordinal encoder \n",
    "ordinal_encoder = OrdinalEncoder() # Your code here\n",
    "X_train_ordinal[good_label_cols] = ordinal_encoder.fit_transform(X_train_ordinal[good_label_cols])\n",
    "X_test_ordinal[good_label_cols] = ordinal_encoder.transform(X_test_ordinal[good_label_cols])\n",
    "\n",
    "#Q4: fill missing values in train and test sets using SimpleImputer\n",
    "from sklearn.impute import SimpleImputer\n",
    "\n",
    "final_imputer = SimpleImputer(strategy='median')\n",
    "\n",
    "X_train_imputed = final_imputer.fit_transform(X_train_ordinal)\n",
    "X_test_imputed = pd.DataFrame(final_imputer.transform(X_test_ordinal))\n",
    "X_test_imputed.columns = X_test_ordinal.columns"
   ]
  },
  {
   "cell_type": "code",
   "execution_count": 3,
   "id": "63eb9e02",
   "metadata": {
    "execution": {
     "iopub.execute_input": "2022-05-19T20:41:37.819120Z",
     "iopub.status.busy": "2022-05-19T20:41:37.818654Z",
     "iopub.status.idle": "2022-05-19T20:41:45.228168Z",
     "shell.execute_reply": "2022-05-19T20:41:45.227430Z"
    },
    "papermill": {
     "duration": 7.432302,
     "end_time": "2022-05-19T20:41:45.230686",
     "exception": false,
     "start_time": "2022-05-19T20:41:37.798384",
     "status": "completed"
    },
    "tags": []
   },
   "outputs": [],
   "source": [
    "#Q5: XGBoost regressor train and test steps\n",
    "from xgboost import XGBRegressor\n",
    "\n",
    "model = XGBRegressor(n_estimators=1000, learning_rate=0.05, n_jobs=-1, random_state=0)\n",
    "model.fit(X_train_imputed, y)\n",
    "preds_test = model.predict(X_test_imputed)\n",
    "\n",
    "#Q6: Store the predictions as a pandas dataframe for submission\n",
    "output = pd.DataFrame({'Id': X_test.index,\n",
    "                       'SalePrice': preds_test})\n",
    "output.to_csv('submission.csv', index=False)"
   ]
  },
  {
   "cell_type": "markdown",
   "id": "69a6602b",
   "metadata": {
    "papermill": {
     "duration": 0.017997,
     "end_time": "2022-05-19T20:41:45.267934",
     "exception": false,
     "start_time": "2022-05-19T20:41:45.249937",
     "status": "completed"
    },
    "tags": []
   },
   "source": [
    "Score: 14664.82491"
   ]
  },
  {
   "cell_type": "code",
   "execution_count": 4,
   "id": "762dc91f",
   "metadata": {
    "execution": {
     "iopub.execute_input": "2022-05-19T20:41:45.306631Z",
     "iopub.status.busy": "2022-05-19T20:41:45.306040Z",
     "iopub.status.idle": "2022-05-19T20:41:47.459211Z",
     "shell.execute_reply": "2022-05-19T20:41:47.458161Z"
    },
    "papermill": {
     "duration": 2.184361,
     "end_time": "2022-05-19T20:41:47.470663",
     "exception": false,
     "start_time": "2022-05-19T20:41:45.286302",
     "status": "completed"
    },
    "tags": []
   },
   "outputs": [],
   "source": [
    "#Q8: Iterative imputer\n",
    "from sklearn.experimental import enable_iterative_imputer\n",
    "from sklearn.impute import IterativeImputer\n",
    "\n",
    "iterative_imputer = IterativeImputer(max_iter=10)\n",
    "\n",
    "X_train_iterative = iterative_imputer.fit_transform(X_train_ordinal)\n",
    "X_test_iterative = pd.DataFrame(iterative_imputer.transform(X_test_ordinal))\n",
    "X_test_iterative.columns = X_test_ordinal.columns"
   ]
  },
  {
   "cell_type": "code",
   "execution_count": 5,
   "id": "c3a64892",
   "metadata": {
    "execution": {
     "iopub.execute_input": "2022-05-19T20:41:47.580017Z",
     "iopub.status.busy": "2022-05-19T20:41:47.579663Z",
     "iopub.status.idle": "2022-05-19T20:41:56.559453Z",
     "shell.execute_reply": "2022-05-19T20:41:56.558648Z"
    },
    "papermill": {
     "duration": 9.035653,
     "end_time": "2022-05-19T20:41:56.561959",
     "exception": false,
     "start_time": "2022-05-19T20:41:47.526306",
     "status": "completed"
    },
    "tags": []
   },
   "outputs": [],
   "source": [
    "#Q8cont: Iterative imputer\n",
    "from xgboost import XGBRegressor\n",
    "\n",
    "model2 = XGBRegressor(n_estimators=1000, learning_rate=0.05, n_jobs=-1, random_state=0)\n",
    "model2.fit(X_train_iterative, y)\n",
    "preds_test2 = model2.predict(X_test_iterative)\n",
    "\n",
    "\n",
    "output2 = pd.DataFrame({'Id': X_test.index,\n",
    "                       'SalePrice': preds_test2})\n",
    "output2.to_csv('submission2.csv', index=False)"
   ]
  },
  {
   "cell_type": "markdown",
   "id": "371c2c59",
   "metadata": {
    "papermill": {
     "duration": 0.028747,
     "end_time": "2022-05-19T20:41:56.611681",
     "exception": false,
     "start_time": "2022-05-19T20:41:56.582934",
     "status": "completed"
    },
    "tags": []
   },
   "source": [
    "Score: 14611.77751"
   ]
  },
  {
   "cell_type": "code",
   "execution_count": 6,
   "id": "4c98f398",
   "metadata": {
    "execution": {
     "iopub.execute_input": "2022-05-19T20:41:56.659017Z",
     "iopub.status.busy": "2022-05-19T20:41:56.658752Z",
     "iopub.status.idle": "2022-05-19T20:41:57.494252Z",
     "shell.execute_reply": "2022-05-19T20:41:57.493174Z"
    },
    "papermill": {
     "duration": 0.86469,
     "end_time": "2022-05-19T20:41:57.496716",
     "exception": false,
     "start_time": "2022-05-19T20:41:56.632026",
     "status": "completed"
    },
    "tags": []
   },
   "outputs": [],
   "source": [
    "#Q8: KNN imputer\n",
    "from sklearn.impute import KNNImputer\n",
    "\n",
    "knn_imputer = KNNImputer(n_neighbors=3)\n",
    "\n",
    "X_train_knn = knn_imputer.fit_transform(X_train_ordinal)\n",
    "X_test_knn = pd.DataFrame(knn_imputer.transform(X_test_ordinal))\n",
    "X_test_knn.columns = X_test_ordinal.columns"
   ]
  },
  {
   "cell_type": "code",
   "execution_count": 7,
   "id": "e61d1dc3",
   "metadata": {
    "execution": {
     "iopub.execute_input": "2022-05-19T20:41:57.537081Z",
     "iopub.status.busy": "2022-05-19T20:41:57.536046Z",
     "iopub.status.idle": "2022-05-19T20:42:04.733406Z",
     "shell.execute_reply": "2022-05-19T20:42:04.732664Z"
    },
    "papermill": {
     "duration": 7.220565,
     "end_time": "2022-05-19T20:42:04.735937",
     "exception": false,
     "start_time": "2022-05-19T20:41:57.515372",
     "status": "completed"
    },
    "tags": []
   },
   "outputs": [],
   "source": [
    "#Q8cont: KNN imputer\n",
    "model3 = XGBRegressor(n_estimators=1000, learning_rate=0.05, n_jobs=-1, random_state=0)\n",
    "model3.fit(X_train_knn, y)\n",
    "preds_test3 = model3.predict(X_test_knn)\n",
    "\n",
    "\n",
    "output3 = pd.DataFrame({'Id': X_test.index,\n",
    "                       'SalePrice': preds_test3})\n",
    "output3.to_csv('submission3.csv', index=False)"
   ]
  },
  {
   "cell_type": "markdown",
   "id": "dc27efb4",
   "metadata": {
    "papermill": {
     "duration": 0.018003,
     "end_time": "2022-05-19T20:42:04.773182",
     "exception": false,
     "start_time": "2022-05-19T20:42:04.755179",
     "status": "completed"
    },
    "tags": []
   },
   "source": [
    "Score: 14826.62424"
   ]
  },
  {
   "cell_type": "code",
   "execution_count": 8,
   "id": "8d09ddf4",
   "metadata": {
    "execution": {
     "iopub.execute_input": "2022-05-19T20:42:04.811623Z",
     "iopub.status.busy": "2022-05-19T20:42:04.811353Z",
     "iopub.status.idle": "2022-05-19T20:42:04.817055Z",
     "shell.execute_reply": "2022-05-19T20:42:04.816385Z"
    },
    "papermill": {
     "duration": 0.027316,
     "end_time": "2022-05-19T20:42:04.818864",
     "exception": false,
     "start_time": "2022-05-19T20:42:04.791548",
     "status": "completed"
    },
    "tags": []
   },
   "outputs": [],
   "source": [
    "#Q9: Implementing function\n",
    "from sklearn.metrics import mean_absolute_error\n",
    "from sklearn.model_selection import cross_val_score\n",
    "\n",
    "def score_dataset(X_train,y):\n",
    "    model = XGBRegressor(n_estimators=1000, learning_rate=0.05, n_jobs=-1, random_state=0)\n",
    "    scores = -1 * cross_val_score(model,X_train, y,\n",
    "                              cv=3,\n",
    "                              scoring='neg_mean_absolute_error')\n",
    "    return scores.mean()\n",
    "\n"
   ]
  },
  {
   "cell_type": "code",
   "execution_count": 9,
   "id": "fe855a07",
   "metadata": {
    "execution": {
     "iopub.execute_input": "2022-05-19T20:42:04.856779Z",
     "iopub.status.busy": "2022-05-19T20:42:04.856292Z",
     "iopub.status.idle": "2022-05-19T20:44:23.612519Z",
     "shell.execute_reply": "2022-05-19T20:44:23.611657Z"
    },
    "papermill": {
     "duration": 138.798876,
     "end_time": "2022-05-19T20:44:23.635826",
     "exception": false,
     "start_time": "2022-05-19T20:42:04.836950",
     "status": "completed"
    },
    "tags": []
   },
   "outputs": [
    {
     "name": "stdout",
     "output_type": "stream",
     "text": [
      "Estimator size(max_iter): 1  \t\t Mean Absolute Error:  16587\n",
      "Estimator size(max_iter): 3  \t\t Mean Absolute Error:  16587\n",
      "Estimator size(max_iter): 5  \t\t Mean Absolute Error:  16587\n",
      "Estimator size(max_iter): 7  \t\t Mean Absolute Error:  16587\n",
      "Estimator size(max_iter): 9  \t\t Mean Absolute Error:  16587\n",
      "Estimator size(max_iter): 11  \t\t Mean Absolute Error:  16587\n",
      "Best max_iter size is: 1  \t\t Best Mean Absolute Error:  16587\n"
     ]
    },
    {
     "data": {
      "image/png": "[encoded data removed]",
      "text/plain": [
       "<Figure size 432x288 with 1 Axes>"
      ]
     },
     "metadata": {
      "needs_background": "light"
     },
     "output_type": "display_data"
    }
   ],
   "source": [
    "#Q10: \n",
    "candidate_max_iter = [1,3,5,7,9,11]\n",
    "\n",
    "results = {}\n",
    "small_iter_mae = 100000000\n",
    "small_max_iter =0  \n",
    "for estimators in candidate_max_iter:\n",
    "    iter_imputer = IterativeImputer(max_iter=estimators)\n",
    "    X_train_iterTest = iter_imputer.fit_transform(X_train_ordinal)\n",
    "    my_mae =score_dataset(X_train_iterTest,y)\n",
    "    results[estimators] = my_mae\n",
    "    print(\"Estimator size(max_iter): %d  \\t\\t Mean Absolute Error:  %d\" %(estimators, my_mae))\n",
    "    if my_mae < small_iter_mae :\n",
    "        small_max_iter = estimators\n",
    "        small_iter_mae = my_mae\n",
    "\n",
    "\n",
    "best_max_iter = small_max_iter\n",
    "best_iter_mae = small_iter_mae \n",
    "print(\"Best max_iter size is: %d  \\t\\t Best Mean Absolute Error:  %d\"%(best_max_iter,best_iter_mae))\n",
    "\n",
    "import matplotlib.pyplot as plt     \n",
    "%matplotlib inline\n",
    "\n",
    "plt.plot(list(results.keys()), list(results.values()))\n",
    "plt.show()"
   ]
  },
  {
   "cell_type": "markdown",
   "id": "83eff48d",
   "metadata": {
    "papermill": {
     "duration": 0.023004,
     "end_time": "2022-05-19T20:44:23.680398",
     "exception": false,
     "start_time": "2022-05-19T20:44:23.657394",
     "status": "completed"
    },
    "tags": []
   },
   "source": [
    "Best max_iter size is: 1  \t\t Best Mean Absolute Error:  16587"
   ]
  },
  {
   "cell_type": "code",
   "execution_count": 10,
   "id": "c06115ab",
   "metadata": {
    "execution": {
     "iopub.execute_input": "2022-05-19T20:44:23.726543Z",
     "iopub.status.busy": "2022-05-19T20:44:23.726249Z",
     "iopub.status.idle": "2022-05-19T20:46:23.676283Z",
     "shell.execute_reply": "2022-05-19T20:46:23.675290Z"
    },
    "papermill": {
     "duration": 120.001672,
     "end_time": "2022-05-19T20:46:23.704088",
     "exception": false,
     "start_time": "2022-05-19T20:44:23.702416",
     "status": "completed"
    },
    "tags": []
   },
   "outputs": [
    {
     "name": "stdout",
     "output_type": "stream",
     "text": [
      "Estimator size(n_neighbours): 1  \t\t Mean Absolute Error:  16244\n",
      "Estimator size(n_neighbours): 3  \t\t Mean Absolute Error:  16265\n",
      "Estimator size(n_neighbours): 5  \t\t Mean Absolute Error:  16335\n",
      "Estimator size(n_neighbours): 7  \t\t Mean Absolute Error:  16210\n",
      "Estimator size(n_neighbours): 9  \t\t Mean Absolute Error:  16377\n",
      "Estimator size(n_neighbours): 11  \t\t Mean Absolute Error:  16396\n",
      "Best n_neighbour size is: 7  \t\t Best Mean Absolute Error:  16210\n"
     ]
    },
    {
     "data": {
      "image/png": "[encoded data removed]",
      "text/plain": [
       "<Figure size 432x288 with 1 Axes>"
      ]
     },
     "metadata": {
      "needs_background": "light"
     },
     "output_type": "display_data"
    }
   ],
   "source": [
    "#Q11:\n",
    "candidate_n_neighbours = [1,3,5,7,9,11]\n",
    "\n",
    "knn_results = {}\n",
    "small_knn_mae = 100000000\n",
    "small_n_neighbours =0  \n",
    "for estimators in candidate_n_neighbours:\n",
    "    knn_imputer = KNNImputer(n_neighbors=estimators)\n",
    "    X_train_knnTest = knn_imputer.fit_transform(X_train_ordinal)\n",
    "    my_mae =score_dataset(X_train_knnTest,y)\n",
    "    knn_results[estimators] = my_mae\n",
    "    print(\"Estimator size(n_neighbours): %d  \\t\\t Mean Absolute Error:  %d\" %(estimators, my_mae))\n",
    "    if my_mae < small_knn_mae:\n",
    "        small_n_neighbours = estimators\n",
    "        small_knn_mae = my_mae\n",
    "\n",
    "        \n",
    "best_n_neighbours = small_n_neighbours\n",
    "best_knn_mae = small_knn_mae\n",
    "print(\"Best n_neighbour size is: %d  \\t\\t Best Mean Absolute Error:  %d\"%(best_n_neighbours,best_knn_mae))\n",
    "\n",
    "import matplotlib.pyplot as plt2\n",
    "%matplotlib inline\n",
    "\n",
    "plt2.plot(list(knn_results.keys()), list(knn_results.values()))\n",
    "plt2.show()"
   ]
  },
  {
   "cell_type": "markdown",
   "id": "9efd22f9",
   "metadata": {
    "papermill": {
     "duration": 0.023874,
     "end_time": "2022-05-19T20:46:23.752251",
     "exception": false,
     "start_time": "2022-05-19T20:46:23.728377",
     "status": "completed"
    },
    "tags": []
   },
   "source": [
    "Best n_neighbour size is: 7  \t\t Best Mean Absolute Error:  16210"
   ]
  },
  {
   "cell_type": "code",
   "execution_count": 11,
   "id": "541d6979",
   "metadata": {
    "execution": {
     "iopub.execute_input": "2022-05-19T20:46:23.803277Z",
     "iopub.status.busy": "2022-05-19T20:46:23.802780Z",
     "iopub.status.idle": "2022-05-19T20:46:33.534335Z",
     "shell.execute_reply": "2022-05-19T20:46:33.533587Z"
    },
    "papermill": {
     "duration": 9.759826,
     "end_time": "2022-05-19T20:46:33.536700",
     "exception": false,
     "start_time": "2022-05-19T20:46:23.776874",
     "status": "completed"
    },
    "tags": []
   },
   "outputs": [],
   "source": [
    "#Q12:\n",
    "iterative_imputer_final = IterativeImputer(max_iter=best_max_iter)\n",
    "\n",
    "X_train_iter_final = iterative_imputer_final.fit_transform(X_train_ordinal)\n",
    "X_test_iter_final = pd.DataFrame(iterative_imputer_final.transform(X_test_ordinal))\n",
    "X_test_iter_final.columns = X_test_ordinal.columns\n",
    "\n",
    "model_iter_final = XGBRegressor(n_estimators=1000, learning_rate=0.05, n_jobs=-1, random_state=0)\n",
    "model_iter_final.fit(X_train_iter_final, y)\n",
    "preds_test_iter_final = model_iter_final.predict(X_test_iter_final)\n",
    "\n",
    "\n",
    "output_iter_final = pd.DataFrame({'Id': X_test.index,\n",
    "                       'SalePrice': preds_test_iter_final})\n",
    "output_iter_final.to_csv('submission_iter_final.csv', index=False)"
   ]
  },
  {
   "cell_type": "markdown",
   "id": "29ebc201",
   "metadata": {
    "papermill": {
     "duration": 0.024018,
     "end_time": "2022-05-19T20:46:33.587993",
     "exception": false,
     "start_time": "2022-05-19T20:46:33.563975",
     "status": "completed"
    },
    "tags": []
   },
   "source": [
    "Score: 14611.77751"
   ]
  },
  {
   "cell_type": "code",
   "execution_count": 12,
   "id": "4ad67313",
   "metadata": {
    "execution": {
     "iopub.execute_input": "2022-05-19T20:46:33.637636Z",
     "iopub.status.busy": "2022-05-19T20:46:33.637385Z",
     "iopub.status.idle": "2022-05-19T20:46:42.592849Z",
     "shell.execute_reply": "2022-05-19T20:46:42.591877Z"
    },
    "papermill": {
     "duration": 8.983773,
     "end_time": "2022-05-19T20:46:42.595892",
     "exception": false,
     "start_time": "2022-05-19T20:46:33.612119",
     "status": "completed"
    },
    "tags": []
   },
   "outputs": [],
   "source": [
    "#Q13:\n",
    "knn_imputer_final = KNNImputer(n_neighbors=best_n_neighbours)\n",
    "\n",
    "X_train_knn_final = knn_imputer_final.fit_transform(X_train_ordinal)\n",
    "X_test_knn_final = pd.DataFrame(knn_imputer_final.transform(X_test_ordinal))\n",
    "X_test_knn_final.columns = X_test_ordinal.columns\n",
    "\n",
    "model_knn_final = XGBRegressor(n_estimators=1000, learning_rate=0.05, n_jobs=-1, random_state=0)\n",
    "model_knn_final.fit(X_train_knn_final, y)\n",
    "preds_test_knn_final = model_knn_final.predict(X_test_knn_final)\n",
    "\n",
    "\n",
    "output_knn_final = pd.DataFrame({'Id': X_test.index,\n",
    "                       'SalePrice': preds_test_knn_final})\n",
    "output_knn_final.to_csv('submission_knn_final.csv', index=False)"
   ]
  },
  {
   "cell_type": "markdown",
   "id": "05bf8e4c",
   "metadata": {
    "papermill": {
     "duration": 0.03047,
     "end_time": "2022-05-19T20:46:42.664552",
     "exception": false,
     "start_time": "2022-05-19T20:46:42.634082",
     "status": "completed"
    },
    "tags": []
   },
   "source": [
    "Score: 14734.29326"
   ]
  }
 ],
 "metadata": {
  "kernelspec": {
   "display_name": "Python 3",
   "language": "python",
   "name": "python3"
  },
  "language_info": {
   "codemirror_mode": {
    "name": "ipython",
    "version": 3
   },
   "file_extension": ".py",
   "mimetype": "text/x-python",
   "name": "python",
   "nbconvert_exporter": "python",
   "pygments_lexer": "ipython3",
   "version": "3.7.12"
  },
  "papermill": {
   "default_parameters": {},
   "duration": 317.841939,
   "end_time": "2022-05-19T20:46:43.523365",
   "environment_variables": {},
   "exception": null,
   "input_path": "__notebook__.ipynb",
   "output_path": "__notebook__.ipynb",
   "parameters": {},
   "start_time": "2022-05-19T20:41:25.681426",
   "version": "2.3.4"
  }
 },
 "nbformat": 4,
 "nbformat_minor": 5
}
