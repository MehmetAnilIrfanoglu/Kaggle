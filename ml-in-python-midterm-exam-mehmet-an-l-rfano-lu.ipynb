{
 "cells": [
  {
   "cell_type": "code",
   "execution_count": 1,
   "id": "708b2c81",
   "metadata": {
    "_cell_guid": "b1076dfc-b9ad-4769-8c92-a6c4dae69d19",
    "_uuid": "8f2839f25d086af736a60e9eeb907d3b93b6e0e5",
    "execution": {
     "iopub.execute_input": "2022-06-26T11:42:43.618220Z",
     "iopub.status.busy": "2022-06-26T11:42:43.617426Z",
     "iopub.status.idle": "2022-06-26T11:42:43.627598Z",
     "shell.execute_reply": "2022-06-26T11:42:43.627094Z"
    },
    "papermill": {
     "duration": 0.026119,
     "end_time": "2022-06-26T11:42:43.629447",
     "exception": false,
     "start_time": "2022-06-26T11:42:43.603328",
     "status": "completed"
    },
    "tags": []
   },
   "outputs": [],
   "source": [
    "# This Python 3 environment comes with many helpful analytics libraries installed\n",
    "\n",
    "import numpy as np # linear algebra\n"
   ]
  },
  {
   "cell_type": "code",
   "execution_count": 2,
   "id": "fd97f59c",
   "metadata": {
    "execution": {
     "iopub.execute_input": "2022-06-26T11:42:43.653834Z",
     "iopub.status.busy": "2022-06-26T11:42:43.653430Z",
     "iopub.status.idle": "2022-06-26T11:42:43.725625Z",
     "shell.execute_reply": "2022-06-26T11:42:43.725014Z"
    },
    "papermill": {
     "duration": 0.086757,
     "end_time": "2022-06-26T11:42:43.727703",
     "exception": false,
     "start_time": "2022-06-26T11:42:43.640946",
     "status": "completed"
    },
    "tags": []
   },
   "outputs": [],
   "source": [
    "import pandas as pd\n",
    "X = pd.read_csv('../input/housing-prices-competition-for-kaggle-learn-users/train.csv', index_col='Id')\n",
    "X_test = pd.read_csv('../input/housing-prices-competition-for-kaggle-learn-users/test.csv', index_col='Id')"
   ]
  },
  {
   "cell_type": "code",
   "execution_count": 3,
   "id": "ec321339",
   "metadata": {
    "execution": {
     "iopub.execute_input": "2022-06-26T11:42:43.752222Z",
     "iopub.status.busy": "2022-06-26T11:42:43.751666Z",
     "iopub.status.idle": "2022-06-26T11:42:43.764515Z",
     "shell.execute_reply": "2022-06-26T11:42:43.763640Z"
    },
    "papermill": {
     "duration": 0.027659,
     "end_time": "2022-06-26T11:42:43.766690",
     "exception": false,
     "start_time": "2022-06-26T11:42:43.739031",
     "status": "completed"
    },
    "tags": []
   },
   "outputs": [],
   "source": [
    "#step1,2\n",
    "X.dropna(axis=0, subset=['SalePrice'], inplace=True)\n",
    "y = X.SalePrice\n",
    "X.drop(['SalePrice'], axis=1, inplace=True)"
   ]
  },
  {
   "cell_type": "code",
   "execution_count": 4,
   "id": "466a96b6",
   "metadata": {
    "execution": {
     "iopub.execute_input": "2022-06-26T11:42:43.791308Z",
     "iopub.status.busy": "2022-06-26T11:42:43.790730Z",
     "iopub.status.idle": "2022-06-26T11:42:43.813655Z",
     "shell.execute_reply": "2022-06-26T11:42:43.813010Z"
    },
    "papermill": {
     "duration": 0.037864,
     "end_time": "2022-06-26T11:42:43.815760",
     "exception": false,
     "start_time": "2022-06-26T11:42:43.777896",
     "status": "completed"
    },
    "tags": []
   },
   "outputs": [],
   "source": [
    "#step3 ; determining object,good,bad cols\n",
    "object_cols = [col for col in X.columns if X[col].dtype == \"object\"]\n",
    "\n",
    "#determine good label cols(check whether columns of train is subset of test)\n",
    "good_label_cols = [col for col in object_cols if \n",
    "                   set(X_test[col]).issubset(set(X[col]))]\n",
    "\n",
    "#determine bad label cols\n",
    "bad_label_cols = list(set(object_cols)-set(good_label_cols))\n",
    "\n",
    "#drop bad label cols from dataset\n",
    "X_train_ordinal = X.drop(bad_label_cols, axis=1)\n",
    "X_test_ordinal =  X_test.drop(bad_label_cols, axis=1)"
   ]
  },
  {
   "cell_type": "code",
   "execution_count": 5,
   "id": "663459fc",
   "metadata": {
    "execution": {
     "iopub.execute_input": "2022-06-26T11:42:43.840000Z",
     "iopub.status.busy": "2022-06-26T11:42:43.839222Z",
     "iopub.status.idle": "2022-06-26T11:42:44.948057Z",
     "shell.execute_reply": "2022-06-26T11:42:44.946955Z"
    },
    "papermill": {
     "duration": 1.123669,
     "end_time": "2022-06-26T11:42:44.950649",
     "exception": false,
     "start_time": "2022-06-26T11:42:43.826980",
     "status": "completed"
    },
    "tags": []
   },
   "outputs": [],
   "source": [
    "from sklearn.preprocessing import OrdinalEncoder\n",
    "\n",
    "#set the ordinal encoder and encode the dataset\n",
    "ordinal_encoder = OrdinalEncoder()\n",
    "X_train_ordinal[good_label_cols] = ordinal_encoder.fit_transform(X_train_ordinal[good_label_cols])\n",
    "X_test_ordinal[good_label_cols] = ordinal_encoder.transform(X_test_ordinal[good_label_cols])"
   ]
  },
  {
   "cell_type": "code",
   "execution_count": 6,
   "id": "6de85431",
   "metadata": {
    "execution": {
     "iopub.execute_input": "2022-06-26T11:42:44.974574Z",
     "iopub.status.busy": "2022-06-26T11:42:44.974307Z",
     "iopub.status.idle": "2022-06-26T11:42:45.185184Z",
     "shell.execute_reply": "2022-06-26T11:42:45.184280Z"
    },
    "papermill": {
     "duration": 0.225334,
     "end_time": "2022-06-26T11:42:45.187408",
     "exception": false,
     "start_time": "2022-06-26T11:42:44.962074",
     "status": "completed"
    },
    "tags": []
   },
   "outputs": [],
   "source": [
    "from sklearn.impute import SimpleImputer\n",
    "\n",
    "#step 4, fill the missing values\n",
    "my_imputer = SimpleImputer(strategy=\"constant\")\n",
    "imputed_X_train = pd.DataFrame(my_imputer.fit_transform(X_train_ordinal))\n",
    "imputed_X_test = pd.DataFrame(my_imputer.transform(X_test_ordinal))"
   ]
  },
  {
   "cell_type": "code",
   "execution_count": 7,
   "id": "57e63bf6",
   "metadata": {
    "execution": {
     "iopub.execute_input": "2022-06-26T11:42:45.211534Z",
     "iopub.status.busy": "2022-06-26T11:42:45.211221Z",
     "iopub.status.idle": "2022-06-26T11:42:51.202281Z",
     "shell.execute_reply": "2022-06-26T11:42:51.201363Z"
    },
    "papermill": {
     "duration": 6.006164,
     "end_time": "2022-06-26T11:42:51.204796",
     "exception": false,
     "start_time": "2022-06-26T11:42:45.198632",
     "status": "completed"
    },
    "tags": []
   },
   "outputs": [],
   "source": [
    "from xgboost import XGBRegressor\n",
    "\n",
    "#step5, defining an XGBoost and train it\n",
    "my_model_1 = XGBRegressor(n_estimators=1000,learning_rate=0.05,n_jobs=-1,random_state=0)\n",
    "\n",
    "#trained with train set which was preprocessed\n",
    "my_model_1.fit(imputed_X_train,y)\n",
    "\n",
    "#made predictions with imputed x test\n",
    "predictions_1 = my_model_1.predict(imputed_X_test)"
   ]
  },
  {
   "cell_type": "code",
   "execution_count": 8,
   "id": "28018cd6",
   "metadata": {
    "execution": {
     "iopub.execute_input": "2022-06-26T11:42:51.229436Z",
     "iopub.status.busy": "2022-06-26T11:42:51.228692Z",
     "iopub.status.idle": "2022-06-26T11:42:51.239300Z",
     "shell.execute_reply": "2022-06-26T11:42:51.238649Z"
    },
    "papermill": {
     "duration": 0.024663,
     "end_time": "2022-06-26T11:42:51.241098",
     "exception": false,
     "start_time": "2022-06-26T11:42:51.216435",
     "status": "completed"
    },
    "tags": []
   },
   "outputs": [],
   "source": [
    "#submission file created\n",
    "output = pd.DataFrame({'Id': X_test.index,\n",
    "                       'SalePrice': predictions_1})\n",
    "output.to_csv('submission_midterm.csv', index=False)"
   ]
  },
  {
   "cell_type": "markdown",
   "id": "ce4ddadd",
   "metadata": {
    "papermill": {
     "duration": 0.010883,
     "end_time": "2022-06-26T11:42:51.263207",
     "exception": false,
     "start_time": "2022-06-26T11:42:51.252324",
     "status": "completed"
    },
    "tags": []
   },
   "source": [
    "My score: 14532.26020\n",
    "\n",
    "My place: 637\n"
   ]
  },
  {
   "cell_type": "markdown",
   "id": "a9ead165",
   "metadata": {
    "papermill": {
     "duration": 0.010943,
     "end_time": "2022-06-26T11:42:51.285216",
     "exception": false,
     "start_time": "2022-06-26T11:42:51.274273",
     "status": "completed"
    },
    "tags": []
   },
   "source": []
  },
  {
   "cell_type": "code",
   "execution_count": 9,
   "id": "232f6898",
   "metadata": {
    "execution": {
     "iopub.execute_input": "2022-06-26T11:42:51.309375Z",
     "iopub.status.busy": "2022-06-26T11:42:51.308968Z",
     "iopub.status.idle": "2022-06-26T11:43:18.833980Z",
     "shell.execute_reply": "2022-06-26T11:43:18.833360Z"
    },
    "papermill": {
     "duration": 27.541004,
     "end_time": "2022-06-26T11:43:18.837361",
     "exception": false,
     "start_time": "2022-06-26T11:42:51.296357",
     "status": "completed"
    },
    "tags": []
   },
   "outputs": [
    {
     "name": "stdout",
     "output_type": "stream",
     "text": [
      "MAE scores:\n",
      " [16229.90319991 17025.03847389 16919.30446008 13966.25952483\n",
      " 16492.20208155]\n"
     ]
    }
   ],
   "source": [
    "from sklearn.model_selection import cross_val_score\n",
    "\n",
    "my_model_2 = XGBRegressor(n_estimators=1000,learning_rate=0.05,n_jobs=-1,random_state=0)\n",
    "scores = -1 * cross_val_score(my_model_2, imputed_X_train, y,\n",
    "                              cv=5,\n",
    "                              scoring='neg_mean_absolute_error')\n",
    "\n",
    "print(\"MAE scores:\\n\", scores)"
   ]
  },
  {
   "cell_type": "markdown",
   "id": "9db27650",
   "metadata": {
    "papermill": {
     "duration": 0.011411,
     "end_time": "2022-06-26T11:43:18.860876",
     "exception": false,
     "start_time": "2022-06-26T11:43:18.849465",
     "status": "completed"
    },
    "tags": []
   },
   "source": [
    "MAE scores:\n",
    " [16229.90319991 17025.03847389 16919.30446008 13966.25952483\n",
    " 16492.20208155]"
   ]
  },
  {
   "cell_type": "code",
   "execution_count": 10,
   "id": "d07935e2",
   "metadata": {
    "execution": {
     "iopub.execute_input": "2022-06-26T11:43:18.885832Z",
     "iopub.status.busy": "2022-06-26T11:43:18.885522Z",
     "iopub.status.idle": "2022-06-26T11:43:18.891299Z",
     "shell.execute_reply": "2022-06-26T11:43:18.890714Z"
    },
    "papermill": {
     "duration": 0.020446,
     "end_time": "2022-06-26T11:43:18.893025",
     "exception": false,
     "start_time": "2022-06-26T11:43:18.872579",
     "status": "completed"
    },
    "tags": []
   },
   "outputs": [],
   "source": [
    "from sklearn.model_selection import train_test_split\n",
    "X_train_ordinal_2, X_valid_ordinal, y_train, y_valid = train_test_split(imputed_X_train, y, train_size=0.8, test_size=0.2,random_state=0)"
   ]
  },
  {
   "cell_type": "code",
   "execution_count": 11,
   "id": "2eaf9773",
   "metadata": {
    "execution": {
     "iopub.execute_input": "2022-06-26T11:43:18.918818Z",
     "iopub.status.busy": "2022-06-26T11:43:18.918347Z",
     "iopub.status.idle": "2022-06-26T11:43:18.923595Z",
     "shell.execute_reply": "2022-06-26T11:43:18.922814Z"
    },
    "papermill": {
     "duration": 0.020276,
     "end_time": "2022-06-26T11:43:18.925504",
     "exception": false,
     "start_time": "2022-06-26T11:43:18.905228",
     "status": "completed"
    },
    "tags": []
   },
   "outputs": [],
   "source": [
    "from sklearn.metrics import mean_absolute_error\n",
    "\n",
    "def score_dataset(X_train,X_valid,y_train,y_valid,n_es):\n",
    "    model = XGBRegressor(n_estimators = n_es,random_state=0,learning_rate=0.05)\n",
    "    model.fit(X_train, y_train)\n",
    "    preds = model.predict(X_valid)\n",
    "    return mean_absolute_error(y_valid, preds)"
   ]
  },
  {
   "cell_type": "code",
   "execution_count": 12,
   "id": "eeebe64c",
   "metadata": {
    "execution": {
     "iopub.execute_input": "2022-06-26T11:43:18.952647Z",
     "iopub.status.busy": "2022-06-26T11:43:18.951720Z",
     "iopub.status.idle": "2022-06-26T11:43:35.388482Z",
     "shell.execute_reply": "2022-06-26T11:43:35.387860Z"
    },
    "papermill": {
     "duration": 16.453129,
     "end_time": "2022-06-26T11:43:35.390439",
     "exception": false,
     "start_time": "2022-06-26T11:43:18.937310",
     "status": "completed"
    },
    "tags": []
   },
   "outputs": [
    {
     "name": "stdout",
     "output_type": "stream",
     "text": [
      "Estimator size(n_estimator): 100  \t\t Mean Absolute Error:  16874\n",
      "Estimator size(n_estimator): 500  \t\t Mean Absolute Error:  16595\n",
      "Estimator size(n_estimator): 1000  \t\t Mean Absolute Error:  16597\n",
      "Estimator size(n_estimator): 1500  \t\t Mean Absolute Error:  16597\n",
      "Best estimator size is: 500\n"
     ]
    }
   ],
   "source": [
    "candidate_n_estimators = [100, 500,1000,1500]\n",
    "\n",
    "\n",
    "small = 100000000\n",
    "small_n_t =0  # smallest n_estimator\n",
    "for estimators in candidate_n_estimators:\n",
    "    my_mae =score_dataset(X_train_ordinal_2,X_valid_ordinal,y_train,y_valid,estimators)\n",
    "    print(\"Estimator size(n_estimator): %d  \\t\\t Mean Absolute Error:  %d\" %(estimators, my_mae))\n",
    "    if my_mae < small :\n",
    "        small_n_t = estimators\n",
    "        small = my_mae\n",
    "\n",
    "\n",
    "best_estimator_size = small_n_t\n",
    "print(\"Best estimator size is: %d\"%(small_n_t))\n"
   ]
  },
  {
   "cell_type": "markdown",
   "id": "7117b0ba",
   "metadata": {
    "papermill": {
     "duration": 0.012737,
     "end_time": "2022-06-26T11:43:35.416467",
     "exception": false,
     "start_time": "2022-06-26T11:43:35.403730",
     "status": "completed"
    },
    "tags": []
   },
   "source": [
    "Estimator size(n_estimator): 100  \t\t Mean Absolute Error:  16874\n",
    "\n",
    "Estimator size(n_estimator): 500  \t\t Mean Absolute Error:  16595\n",
    "\n",
    "Estimator size(n_estimator): 1000  \t\t Mean Absolute Error:  16597\n",
    "\n",
    "Estimator size(n_estimator): 1500  \t\t Mean Absolute Error:  16597\n",
    "\n",
    "Best estimator size is: 500"
   ]
  }
 ],
 "metadata": {
  "kernelspec": {
   "display_name": "Python 3",
   "language": "python",
   "name": "python3"
  },
  "language_info": {
   "codemirror_mode": {
    "name": "ipython",
    "version": 3
   },
   "file_extension": ".py",
   "mimetype": "text/x-python",
   "name": "python",
   "nbconvert_exporter": "python",
   "pygments_lexer": "ipython3",
   "version": "3.7.12"
  },
  "papermill": {
   "default_parameters": {},
   "duration": 61.31723,
   "end_time": "2022-06-26T11:43:36.149643",
   "environment_variables": {},
   "exception": null,
   "input_path": "__notebook__.ipynb",
   "output_path": "__notebook__.ipynb",
   "parameters": {},
   "start_time": "2022-06-26T11:42:34.832413",
   "version": "2.3.4"
  }
 },
 "nbformat": 4,
 "nbformat_minor": 5
}
