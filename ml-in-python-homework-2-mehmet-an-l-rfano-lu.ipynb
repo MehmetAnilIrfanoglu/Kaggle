{
 "cells": [
  {
   "cell_type": "code",
   "execution_count": 1,
   "id": "6b47aadc",
   "metadata": {
    "_cell_guid": "b1076dfc-b9ad-4769-8c92-a6c4dae69d19",
    "_uuid": "8f2839f25d086af736a60e9eeb907d3b93b6e0e5",
    "execution": {
     "iopub.execute_input": "2022-06-03T20:05:05.217581Z",
     "iopub.status.busy": "2022-06-03T20:05:05.216996Z",
     "iopub.status.idle": "2022-06-03T20:05:07.985354Z",
     "shell.execute_reply": "2022-06-03T20:05:07.984537Z"
    },
    "papermill": {
     "duration": 2.775945,
     "end_time": "2022-06-03T20:05:07.987621",
     "exception": false,
     "start_time": "2022-06-03T20:05:05.211676",
     "status": "completed"
    },
    "tags": []
   },
   "outputs": [
    {
     "name": "stdout",
     "output_type": "stream",
     "text": [
      "(1460, 80)\n",
      "(1459, 79)\n",
      "(1460, 80)\n",
      "Categorical columns that will be ordinal encoded: ['Street', 'Alley', 'LotShape', 'LandContour', 'LotConfig', 'LandSlope', 'Neighborhood', 'Condition1', 'Condition2', 'BldgType', 'HouseStyle', 'RoofStyle', 'RoofMatl', 'MasVnrType', 'ExterQual', 'ExterCond', 'Foundation', 'BsmtQual', 'BsmtCond', 'BsmtExposure', 'BsmtFinType1', 'BsmtFinType2', 'Heating', 'HeatingQC', 'CentralAir', 'Electrical', 'FireplaceQu', 'GarageType', 'GarageFinish', 'GarageQual', 'GarageCond', 'PavedDrive', 'PoolQC', 'Fence', 'MiscFeature', 'SaleCondition']\n",
      "\n",
      "Categorical columns that will be dropped from the dataset: ['Utilities', 'Functional', 'Exterior2nd', 'SaleType', 'Exterior1st', 'KitchenQual', 'MSZoning']\n"
     ]
    }
   ],
   "source": [
    "import pandas as pd\n",
    "\n",
    "# Read the data\n",
    "X = pd.read_csv('../input/housing-prices-competition-for-kaggle-learn-users/train.csv', index_col='Id') \n",
    "X_test = pd.read_csv('../input/housing-prices-competition-for-kaggle-learn-users/test.csv', index_col='Id')\n",
    "\n",
    "print(X.shape)\n",
    "print(X_test.shape)\n",
    "\n",
    "#Remove rows with missing target, separate target from predictors\n",
    "X.dropna(axis=0, subset=['SalePrice'], inplace=True)\n",
    "print(X.shape)\n",
    "\n",
    "#Separate target from predictors (i.e. input features)\n",
    "y = X.SalePrice\n",
    "X.drop(['SalePrice'], axis=1, inplace=True)\n",
    "\n",
    "#Perform ordinal encoding to categorical feature columns \n",
    "from sklearn.preprocessing import OrdinalEncoder\n",
    "\n",
    "# Get the columns that contain strings and treat them as categorical\n",
    "object_cols = [col for col in X.columns if X[col].dtype == \"object\"]\n",
    "\n",
    "# Columns that can be safely ordinal encoded\n",
    "good_label_cols = [col for col in object_cols if \n",
    "                   set(X_test[col]).issubset(set(X[col]))]\n",
    "        \n",
    "# Problematic columns that will be dropped from the dataset\n",
    "bad_label_cols = list(set(object_cols)-set(good_label_cols))\n",
    "\n",
    "print('Categorical columns that will be ordinal encoded:', good_label_cols)\n",
    "print('\\nCategorical columns that will be dropped from the dataset:', bad_label_cols)\n",
    "\n",
    "# Drop categorical columns that will not be encoded\n",
    "X_train_ordinal = X.drop(bad_label_cols, axis=1)\n",
    "X_test_ordinal = X_test.drop(bad_label_cols, axis=1)\n",
    "\n",
    "# Apply ordinal encoder \n",
    "ordinal_encoder = OrdinalEncoder() # Your code here\n",
    "X_train_ordinal[good_label_cols] = ordinal_encoder.fit_transform(X_train_ordinal[good_label_cols])\n",
    "X_test_ordinal[good_label_cols] = ordinal_encoder.transform(X_test_ordinal[good_label_cols])\n",
    "\n",
    "#fill missing values in train and test sets using IterativeImputer\n",
    "\n",
    "from sklearn.experimental import enable_iterative_imputer #(5 pts)\n",
    "from sklearn.impute import IterativeImputer #(5 pts)\n",
    "\n",
    "final_imputer = IterativeImputer(max_iter=3, random_state=0) #(6 pts)\n",
    "\n",
    "X_train_imputed = final_imputer.fit_transform(X_train_ordinal)\n",
    "X_test_imputed = final_imputer.transform(X_test_ordinal)"
   ]
  },
  {
   "cell_type": "code",
   "execution_count": 2,
   "id": "3f07a1c0",
   "metadata": {
    "execution": {
     "iopub.execute_input": "2022-06-03T20:05:07.998092Z",
     "iopub.status.busy": "2022-06-03T20:05:07.997558Z",
     "iopub.status.idle": "2022-06-03T20:05:08.126172Z",
     "shell.execute_reply": "2022-06-03T20:05:08.125426Z"
    },
    "papermill": {
     "duration": 0.135777,
     "end_time": "2022-06-03T20:05:08.128063",
     "exception": false,
     "start_time": "2022-06-03T20:05:07.992286",
     "status": "completed"
    },
    "tags": []
   },
   "outputs": [],
   "source": [
    "from sklearn.metrics import mean_absolute_error\n",
    "from sklearn.model_selection import cross_val_score\n",
    "from xgboost import XGBRegressor\n",
    "\n",
    "def score_dataset(X_train,y,n_est,l_rate):\n",
    "    model = XGBRegressor(n_estimators=n_est, learning_rate=l_rate, random_state=0)\n",
    "    scores = -1 * cross_val_score(model,X_train, y,\n",
    "                              cv=3,\n",
    "                              scoring='neg_mean_absolute_error')\n",
    "    return scores.mean()"
   ]
  },
  {
   "cell_type": "code",
   "execution_count": 3,
   "id": "a84ad2c9",
   "metadata": {
    "execution": {
     "iopub.execute_input": "2022-06-03T20:05:08.136641Z",
     "iopub.status.busy": "2022-06-03T20:05:08.136305Z",
     "iopub.status.idle": "2022-06-03T20:09:24.436140Z",
     "shell.execute_reply": "2022-06-03T20:09:24.434856Z"
    },
    "papermill": {
     "duration": 256.30671,
     "end_time": "2022-06-03T20:09:24.438603",
     "exception": false,
     "start_time": "2022-06-03T20:05:08.131893",
     "status": "completed"
    },
    "tags": []
   },
   "outputs": [
    {
     "name": "stdout",
     "output_type": "stream",
     "text": [
      "n_estimator: 100  learning_rate: 0.001  \t\t Mean Absolute Error:  164014.75495086762\n",
      "n_estimator: 100  learning_rate: 0.005  \t\t Mean Absolute Error:  110907.13923489145\n",
      "n_estimator: 100  learning_rate: 0.01  \t\t Mean Absolute Error:  68666.88910118258\n",
      "n_estimator: 100  learning_rate: 0.05  \t\t Mean Absolute Error:  16957.37319728889\n",
      "n_estimator: 100  learning_rate: 0.1  \t\t Mean Absolute Error:  16764.04333582569\n",
      "n_estimator: 250  learning_rate: 0.001  \t\t Mean Absolute Error:  141642.56502330428\n",
      "n_estimator: 250  learning_rate: 0.005  \t\t Mean Absolute Error:  54596.69584196614\n",
      "n_estimator: 250  learning_rate: 0.01  \t\t Mean Absolute Error:  22721.86197180029\n",
      "n_estimator: 250  learning_rate: 0.05  \t\t Mean Absolute Error:  16551.48284203374\n",
      "n_estimator: 250  learning_rate: 0.1  \t\t Mean Absolute Error:  16765.40173046447\n",
      "n_estimator: 500  learning_rate: 0.001  \t\t Mean Absolute Error:  111008.49902298088\n",
      "n_estimator: 500  learning_rate: 0.005  \t\t Mean Absolute Error:  22783.301179617676\n",
      "n_estimator: 500  learning_rate: 0.01  \t\t Mean Absolute Error:  16929.942055102107\n",
      "n_estimator: 500  learning_rate: 0.05  \t\t Mean Absolute Error:  16569.086733910768\n",
      "n_estimator: 500  learning_rate: 0.1  \t\t Mean Absolute Error:  16781.11774144739\n",
      "n_estimator: 1000  learning_rate: 0.001  \t\t Mean Absolute Error:  68930.71912400196\n",
      "n_estimator: 1000  learning_rate: 0.005  \t\t Mean Absolute Error:  16919.195180438794\n",
      "n_estimator: 1000  learning_rate: 0.01  \t\t Mean Absolute Error:  16586.387527951534\n",
      "n_estimator: 1000  learning_rate: 0.05  \t\t Mean Absolute Error:  16587.61759125355\n",
      "n_estimator: 1000  learning_rate: 0.1  \t\t Mean Absolute Error:  16783.263210241177\n",
      "n_estimator: 1500  learning_rate: 0.001  \t\t Mean Absolute Error:  43910.60922564238\n",
      "n_estimator: 1500  learning_rate: 0.005  \t\t Mean Absolute Error:  16615.8923113014\n",
      "n_estimator: 1500  learning_rate: 0.01  \t\t Mean Absolute Error:  16573.774602614874\n",
      "n_estimator: 1500  learning_rate: 0.05  \t\t Mean Absolute Error:  16588.42034120853\n",
      "n_estimator: 1500  learning_rate: 0.1  \t\t Mean Absolute Error:  16783.303147772513\n",
      "Best n_estimator size is: 250  Best learning rate is: 0.05  \t\t Best Mean Absolute Error:  16551.48284203374\n"
     ]
    }
   ],
   "source": [
    "\n",
    "candidate_n_estimators = [100,250,500,1000,1500]\n",
    "candidate_learning_rate = [0.001,0.005,0.01,0.05,0.1]\n",
    "\n",
    "\n",
    "\n",
    "small_mae = 100000000\n",
    "\n",
    "small_n_estimator =0\n",
    "small_learning_rate = 0\n",
    "\n",
    "for n_estimator in candidate_n_estimators:\n",
    "        for l_rate in candidate_learning_rate:\n",
    "            my_mae =score_dataset(X_train_imputed,y,n_estimator,l_rate)\n",
    "            print(\"n_estimator: {}  learning_rate: {}  \\t\\t Mean Absolute Error:  {}\".format(n_estimator,l_rate, my_mae))\n",
    "            if my_mae < small_mae :\n",
    "                small_n_estimator = n_estimator\n",
    "                small_mae = my_mae\n",
    "                small_learning_rate = l_rate\n",
    "\n",
    "\n",
    "best_n_estimator = small_n_estimator\n",
    "best_learning_rate = small_learning_rate\n",
    "best_mae = small_mae \n",
    "print(\"Best n_estimator size is: {}  Best learning rate is: {}  \\t\\t Best Mean Absolute Error:  {}\".format(best_n_estimator,best_learning_rate,best_mae))\n",
    "\n"
   ]
  },
  {
   "cell_type": "markdown",
   "id": "be69da3f",
   "metadata": {
    "papermill": {
     "duration": 0.004325,
     "end_time": "2022-06-03T20:09:24.447693",
     "exception": false,
     "start_time": "2022-06-03T20:09:24.443368",
     "status": "completed"
    },
    "tags": []
   },
   "source": [
    "Best n_estimator size is: 250  Best learning rate is: 0.05  \t\t Best Mean Absolute Error:  16551.48284203374"
   ]
  },
  {
   "cell_type": "code",
   "execution_count": 4,
   "id": "24d3e792",
   "metadata": {
    "execution": {
     "iopub.execute_input": "2022-06-03T20:09:24.458118Z",
     "iopub.status.busy": "2022-06-03T20:09:24.457782Z",
     "iopub.status.idle": "2022-06-03T20:09:25.960658Z",
     "shell.execute_reply": "2022-06-03T20:09:25.960046Z"
    },
    "papermill": {
     "duration": 1.510534,
     "end_time": "2022-06-03T20:09:25.962877",
     "exception": false,
     "start_time": "2022-06-03T20:09:24.452343",
     "status": "completed"
    },
    "tags": []
   },
   "outputs": [],
   "source": [
    "model1 = XGBRegressor(n_estimators=best_n_estimator, learning_rate=best_learning_rate, n_jobs=-1, random_state=0)\n",
    "model1.fit(X_train_imputed, y)\n",
    "preds_test1 = model1.predict(X_test_imputed)\n",
    "\n",
    "\n",
    "output1 = pd.DataFrame({'Id': X_test.index,\n",
    "                       'SalePrice': preds_test1})\n",
    "output1.to_csv('submission1.csv', index=False)"
   ]
  },
  {
   "cell_type": "markdown",
   "id": "826a3651",
   "metadata": {
    "papermill": {
     "duration": 0.006741,
     "end_time": "2022-06-03T20:09:25.977240",
     "exception": false,
     "start_time": "2022-06-03T20:09:25.970499",
     "status": "completed"
    },
    "tags": []
   },
   "source": [
    "Score: 14622.39688"
   ]
  },
  {
   "cell_type": "code",
   "execution_count": 5,
   "id": "75365d87",
   "metadata": {
    "execution": {
     "iopub.execute_input": "2022-06-03T20:09:25.992783Z",
     "iopub.status.busy": "2022-06-03T20:09:25.992448Z",
     "iopub.status.idle": "2022-06-03T20:09:25.999650Z",
     "shell.execute_reply": "2022-06-03T20:09:25.998490Z"
    },
    "papermill": {
     "duration": 0.017872,
     "end_time": "2022-06-03T20:09:26.002102",
     "exception": false,
     "start_time": "2022-06-03T20:09:25.984230",
     "status": "completed"
    },
    "tags": []
   },
   "outputs": [],
   "source": [
    "from sklearn.model_selection import train_test_split\n",
    "\n",
    "X_train, X_valid, y_train, y_valid = train_test_split(X_train_imputed, y, test_size=0.2,train_size=0.8, random_state=0)"
   ]
  },
  {
   "cell_type": "code",
   "execution_count": 6,
   "id": "751929c1",
   "metadata": {
    "execution": {
     "iopub.execute_input": "2022-06-03T20:09:26.018871Z",
     "iopub.status.busy": "2022-06-03T20:09:26.017750Z",
     "iopub.status.idle": "2022-06-03T20:09:26.023874Z",
     "shell.execute_reply": "2022-06-03T20:09:26.023329Z"
    },
    "papermill": {
     "duration": 0.016341,
     "end_time": "2022-06-03T20:09:26.025763",
     "exception": false,
     "start_time": "2022-06-03T20:09:26.009422",
     "status": "completed"
    },
    "tags": []
   },
   "outputs": [],
   "source": [
    "\n",
    "\n",
    "def score_dataset_2(X_train,X_valid,y_train,y_valid,l_rate):\n",
    "    model = XGBRegressor(n_estimators=2000,learning_rate=l_rate,early_stopping_rounds=5,  random_state=0)\n",
    "    model.fit(X_train, y_train, \n",
    "              \n",
    "             eval_set=[(X_valid, y_valid)],\n",
    "             verbose=False)\n",
    "    preds = model.predict(X_valid)\n",
    "    mae = mean_absolute_error(y_valid, preds)\n",
    "    best_n_estimator = model.best_iteration+1\n",
    "    return [mae,best_n_estimator]\n",
    "    "
   ]
  },
  {
   "cell_type": "code",
   "execution_count": 7,
   "id": "44fd370f",
   "metadata": {
    "execution": {
     "iopub.execute_input": "2022-06-03T20:09:26.038139Z",
     "iopub.status.busy": "2022-06-03T20:09:26.037062Z",
     "iopub.status.idle": "2022-06-03T20:10:01.785737Z",
     "shell.execute_reply": "2022-06-03T20:10:01.785186Z"
    },
    "papermill": {
     "duration": 35.758465,
     "end_time": "2022-06-03T20:10:01.789206",
     "exception": false,
     "start_time": "2022-06-03T20:09:26.030741",
     "status": "completed"
    },
    "tags": []
   },
   "outputs": [
    {
     "name": "stdout",
     "output_type": "stream",
     "text": [
      "n_estimator: 2000  learning_rate: 0.001  \t\t Mean Absolute Error:  29758.45402129709\n",
      "n_estimator: 1346  learning_rate: 0.005  \t\t Mean Absolute Error:  16966.71544574058\n",
      "n_estimator: 854  learning_rate: 0.01  \t\t Mean Absolute Error:  16684.603194563355\n",
      "n_estimator: 152  learning_rate: 0.05  \t\t Mean Absolute Error:  16976.85847870291\n",
      "n_estimator: 111  learning_rate: 0.1  \t\t Mean Absolute Error:  16965.61593000856\n",
      "Best n_estimator size is: 854  Best learning rate is: 0.01  \t\t Best Mean Absolute Error:  16684.603194563355\n"
     ]
    }
   ],
   "source": [
    "\n",
    "candidate_learning_rate = [0.001,0.005,0.01,0.05,0.1]\n",
    "\n",
    "\n",
    "\n",
    "small_mae2 = 100000000\n",
    "\n",
    "small_n_estimator =0\n",
    "small_learning_rate = 0\n",
    "\n",
    "\n",
    "for l_rate in candidate_learning_rate:\n",
    "    results =score_dataset_2(X_train,X_valid,y_train,y_valid,l_rate)\n",
    "    my_mae = results[0]\n",
    "    n_est = results[1]\n",
    "    print(\"n_estimator: {}  learning_rate: {}  \\t\\t Mean Absolute Error:  {}\".format(n_est,l_rate, my_mae))\n",
    "    if my_mae < small_mae2 :\n",
    "            small_n_estimator = n_est\n",
    "            small_mae2 = my_mae\n",
    "            small_learning_rate = l_rate\n",
    "\n",
    "\n",
    "best_n_estimator2 = small_n_estimator\n",
    "best_learning_rate2 = small_learning_rate\n",
    "best_mae2 = small_mae2 \n",
    "print(\"Best n_estimator size is: {}  Best learning rate is: {}  \\t\\t Best Mean Absolute Error:  {}\".format(best_n_estimator2,best_learning_rate2,best_mae2))\n"
   ]
  },
  {
   "cell_type": "markdown",
   "id": "b403c530",
   "metadata": {
    "papermill": {
     "duration": 0.007371,
     "end_time": "2022-06-03T20:10:01.805715",
     "exception": false,
     "start_time": "2022-06-03T20:10:01.798344",
     "status": "completed"
    },
    "tags": []
   },
   "source": [
    "Best n_estimator size is: 854  Best learning rate is: 0.01  \t\t Best Mean Absolute Error:  16684.603194563355"
   ]
  },
  {
   "cell_type": "code",
   "execution_count": 8,
   "id": "230774d5",
   "metadata": {
    "execution": {
     "iopub.execute_input": "2022-06-03T20:10:01.823207Z",
     "iopub.status.busy": "2022-06-03T20:10:01.822868Z",
     "iopub.status.idle": "2022-06-03T20:10:06.962615Z",
     "shell.execute_reply": "2022-06-03T20:10:06.961921Z"
    },
    "papermill": {
     "duration": 5.152201,
     "end_time": "2022-06-03T20:10:06.965564",
     "exception": false,
     "start_time": "2022-06-03T20:10:01.813363",
     "status": "completed"
    },
    "tags": []
   },
   "outputs": [],
   "source": [
    "model2 = XGBRegressor(n_estimators=best_n_estimator2, learning_rate=best_learning_rate2, n_jobs=-1, random_state=0)\n",
    "model2.fit(X_train_imputed, y)\n",
    "preds_test2 = model2.predict(X_test_imputed)\n",
    "\n",
    "\n",
    "output2 = pd.DataFrame({'Id': X_test.index,\n",
    "                       'SalePrice': preds_test2})\n",
    "output2.to_csv('submission2.csv', index=False)"
   ]
  },
  {
   "cell_type": "markdown",
   "id": "d65428a4",
   "metadata": {
    "papermill": {
     "duration": 0.007264,
     "end_time": "2022-06-03T20:10:06.981186",
     "exception": false,
     "start_time": "2022-06-03T20:10:06.973922",
     "status": "completed"
    },
    "tags": []
   },
   "source": [
    "Score: 14975.15252"
   ]
  },
  {
   "cell_type": "markdown",
   "id": "a45c5564",
   "metadata": {
    "papermill": {
     "duration": 0.007355,
     "end_time": "2022-06-03T20:10:06.996231",
     "exception": false,
     "start_time": "2022-06-03T20:10:06.988876",
     "status": "completed"
    },
    "tags": []
   },
   "source": [
    "Question 11)\n",
    "\n",
    "We get better results when we use Cross Validation method to train our model. The main reason of this situation is our dataset is very small and if we only do train test split, we lost to much important data which improves our model quality. So, like our situation, using Cross validation gives better result in small datasets due to it tries different folds of data to train our model and it captures more patterns which increases the quality of the model."
   ]
  },
  {
   "cell_type": "markdown",
   "id": "9332d604",
   "metadata": {
    "papermill": {
     "duration": 0.004619,
     "end_time": "2022-06-03T20:10:07.007504",
     "exception": false,
     "start_time": "2022-06-03T20:10:07.002885",
     "status": "completed"
    },
    "tags": []
   },
   "source": [
    "Question 12)\n",
    "\n",
    "Yes , the result we get here is different. My answer for second question is a no because the previous model gave us a better result than we are having now. In test sets, the previous model performed better. Despite the fact that we used a train set, we discovered different parameter velocities. Our previous model's pattern is more similar to our test data. In the previous model, we can say that our variance is lower. Considering all these details, we can understand that the model we used before is more effective."
   ]
  }
 ],
 "metadata": {
  "kernelspec": {
   "display_name": "Python 3",
   "language": "python",
   "name": "python3"
  },
  "language_info": {
   "codemirror_mode": {
    "name": "ipython",
    "version": 3
   },
   "file_extension": ".py",
   "mimetype": "text/x-python",
   "name": "python",
   "nbconvert_exporter": "python",
   "pygments_lexer": "ipython3",
   "version": "3.7.12"
  },
  "papermill": {
   "default_parameters": {},
   "duration": 310.967745,
   "end_time": "2022-06-03T20:10:07.733534",
   "environment_variables": {},
   "exception": null,
   "input_path": "__notebook__.ipynb",
   "output_path": "__notebook__.ipynb",
   "parameters": {},
   "start_time": "2022-06-03T20:04:56.765789",
   "version": "2.3.4"
  }
 },
 "nbformat": 4,
 "nbformat_minor": 5
}
