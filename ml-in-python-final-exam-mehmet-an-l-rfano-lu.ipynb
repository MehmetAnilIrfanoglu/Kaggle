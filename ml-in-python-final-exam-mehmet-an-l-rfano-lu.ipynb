{
 "cells": [
  {
   "cell_type": "code",
   "execution_count": 1,
   "id": "3441fb7a",
   "metadata": {
    "_cell_guid": "b1076dfc-b9ad-4769-8c92-a6c4dae69d19",
    "_uuid": "8f2839f25d086af736a60e9eeb907d3b93b6e0e5",
    "execution": {
     "iopub.execute_input": "2022-06-10T14:42:47.544923Z",
     "iopub.status.busy": "2022-06-10T14:42:47.543961Z",
     "iopub.status.idle": "2022-06-10T14:42:51.044127Z",
     "shell.execute_reply": "2022-06-10T14:42:51.042619Z"
    },
    "papermill": {
     "duration": 3.5177,
     "end_time": "2022-06-10T14:42:51.047766",
     "exception": false,
     "start_time": "2022-06-10T14:42:47.530066",
     "status": "completed"
    },
    "tags": []
   },
   "outputs": [
    {
     "name": "stdout",
     "output_type": "stream",
     "text": [
      "(1460, 80)\n",
      "(1459, 79)\n",
      "(1460, 80)\n",
      "Categorical columns that will be ordinal encoded: ['Street', 'Alley', 'LotShape', 'LandContour', 'LotConfig', 'LandSlope', 'Neighborhood', 'Condition1', 'Condition2', 'BldgType', 'HouseStyle', 'RoofStyle', 'RoofMatl', 'MasVnrType', 'ExterQual', 'ExterCond', 'Foundation', 'BsmtQual', 'BsmtCond', 'BsmtExposure', 'BsmtFinType1', 'BsmtFinType2', 'Heating', 'HeatingQC', 'CentralAir', 'Electrical', 'FireplaceQu', 'GarageType', 'GarageFinish', 'GarageQual', 'GarageCond', 'PavedDrive', 'PoolQC', 'Fence', 'MiscFeature', 'SaleCondition']\n",
      "\n",
      "Categorical columns that will be dropped from the dataset: ['SaleType', 'Exterior2nd', 'MSZoning', 'Utilities', 'KitchenQual', 'Functional', 'Exterior1st']\n"
     ]
    }
   ],
   "source": [
    "import pandas as pd\n",
    "\n",
    "# Read the data\n",
    "X = pd.read_csv('../input/housing-prices-competition-for-kaggle-learn-users/train.csv', index_col='Id') \n",
    "X_test = pd.read_csv('../input/housing-prices-competition-for-kaggle-learn-users/test.csv', index_col='Id')\n",
    "\n",
    "print(X.shape)\n",
    "print(X_test.shape)\n",
    "\n",
    "#Remove rows with missing target, separate target from predictors\n",
    "X.dropna(axis=0, subset=['SalePrice'], inplace=True)\n",
    "print(X.shape)\n",
    "\n",
    "#Separate target from predictors (i.e. input features)\n",
    "y = X.SalePrice\n",
    "X.drop(['SalePrice'], axis=1, inplace=True)\n",
    "\n",
    "#Perform ordinal encoding to categorical feature columns \n",
    "from sklearn.preprocessing import OrdinalEncoder\n",
    "\n",
    "# Get the columns that contain strings and treat them as categorical\n",
    "object_cols = [col for col in X.columns if X[col].dtype == \"object\"]\n",
    "\n",
    "# Columns that can be safely ordinal encoded\n",
    "good_label_cols = [col for col in object_cols if \n",
    "                   set(X_test[col]).issubset(set(X[col]))]\n",
    "        \n",
    "# Problematic columns that will be dropped from the dataset\n",
    "bad_label_cols = list(set(object_cols)-set(good_label_cols))\n",
    "\n",
    "print('Categorical columns that will be ordinal encoded:', good_label_cols)\n",
    "print('\\nCategorical columns that will be dropped from the dataset:', bad_label_cols)\n",
    "\n",
    "# Drop categorical columns that will not be encoded\n",
    "X_train_ordinal = X.drop(bad_label_cols, axis=1)\n",
    "X_test_ordinal = X_test.drop(bad_label_cols, axis=1)\n",
    "\n",
    "# Apply ordinal encoder \n",
    "ordinal_encoder = OrdinalEncoder() # Your code here\n",
    "X_train_ordinal[good_label_cols] = ordinal_encoder.fit_transform(X_train_ordinal[good_label_cols])\n",
    "X_test_ordinal[good_label_cols] = ordinal_encoder.transform(X_test_ordinal[good_label_cols])\n",
    "\n",
    "#fill missing values in train and test sets using IterativeImputer\n",
    "\n",
    "from sklearn.experimental import enable_iterative_imputer \n",
    "from sklearn.impute import IterativeImputer \n",
    "\n",
    "final_imputer = IterativeImputer(max_iter=3, random_state=0) \n",
    "\n",
    "X_train_imputed = pd.DataFrame(final_imputer.fit_transform(X_train_ordinal)) #(6 pts+5 pts)\n",
    "X_train_imputed.columns = X_train_ordinal.columns\n",
    "X_test_imputed = pd.DataFrame(final_imputer.transform(X_test_ordinal)) #(6 pts+5 pts)\n",
    "X_test_imputed.columns = X_test_ordinal.columns #(4 pts + 5 pts)"
   ]
  },
  {
   "cell_type": "code",
   "execution_count": 2,
   "id": "2f3cdefd",
   "metadata": {
    "execution": {
     "iopub.execute_input": "2022-06-10T14:42:51.097029Z",
     "iopub.status.busy": "2022-06-10T14:42:51.096437Z",
     "iopub.status.idle": "2022-06-10T14:42:51.329620Z",
     "shell.execute_reply": "2022-06-10T14:42:51.328615Z"
    },
    "papermill": {
     "duration": 0.270409,
     "end_time": "2022-06-10T14:42:51.332126",
     "exception": false,
     "start_time": "2022-06-10T14:42:51.061717",
     "status": "completed"
    },
    "tags": []
   },
   "outputs": [],
   "source": [
    "import matplotlib.pyplot as plt\n",
    "import numpy as np\n",
    "import pandas as pd\n",
    "import seaborn as sns\n",
    "from sklearn.feature_selection import mutual_info_regression\n",
    "\n",
    "import matplotlib.pyplot as plt\n",
    "# Set Matplotlib defaults\n",
    "plt.style.use(\"seaborn-whitegrid\")\n",
    "plt.rc(\"figure\", autolayout=True)\n",
    "plt.rc(\n",
    "    \"axes\",\n",
    "    labelweight=\"bold\",\n",
    "    labelsize=\"large\",\n",
    "    titleweight=\"bold\",\n",
    "    titlesize=14,\n",
    "    titlepad=10,\n",
    ")"
   ]
  },
  {
   "cell_type": "code",
   "execution_count": 3,
   "id": "a1ff2e1e",
   "metadata": {
    "execution": {
     "iopub.execute_input": "2022-06-10T14:42:51.348585Z",
     "iopub.status.busy": "2022-06-10T14:42:51.347832Z",
     "iopub.status.idle": "2022-06-10T14:42:59.197454Z",
     "shell.execute_reply": "2022-06-10T14:42:59.196132Z"
    },
    "papermill": {
     "duration": 7.860627,
     "end_time": "2022-06-10T14:42:59.199921",
     "exception": false,
     "start_time": "2022-06-10T14:42:51.339294",
     "status": "completed"
    },
    "tags": []
   },
   "outputs": [
    {
     "name": "stdout",
     "output_type": "stream",
     "text": [
      "[1.92604144e-04 6.21991465e-04 1.69340149e-03 1.01909514e-04\n",
      " 6.48368965e-04 1.30814500e-03 9.25107300e-03 2.95274222e-04\n",
      " 2.46543437e-03 2.29112501e-03 1.15036289e-03 1.18165892e-02\n",
      " 2.08649275e-04 8.63843656e-04 5.56152046e-01 4.91755176e-03\n",
      " 3.25612701e-03 3.86375980e-03 2.91660312e-04 7.25941092e-04\n",
      " 8.69409123e-04 6.49534923e-04 1.71763841e-02 5.37110725e-04\n",
      " 6.24358247e-04 5.18279225e-02 6.27678121e-04 1.72170054e-03\n",
      " 2.99285678e-03 1.11981072e-02 3.16015008e-04 7.03554950e-04\n",
      " 5.82503446e-04 1.66898314e-02 2.57784675e-04 4.70100204e-04\n",
      " 4.55308557e-02 5.60582848e-04 4.36095241e-03 6.87733898e-03\n",
      " 1.64543802e-04 3.45204920e-02 2.11651693e-03 7.26164610e-04\n",
      " 5.33087738e-03 1.35046663e-03 4.10751702e-04 2.60249265e-02\n",
      " 5.26760798e-03 8.94285180e-03 3.25581146e-04 4.86589968e-03\n",
      " 1.23630022e-03 4.34467103e-03 1.14391752e-01 2.56512547e-03\n",
      " 3.92910279e-03 2.71652080e-03 8.71347438e-04 6.46666798e-04\n",
      " 1.45812589e-03 8.07798933e-04 4.03229846e-04 4.09420521e-04\n",
      " 3.34227184e-06 1.33368233e-03 1.06974109e-03 1.17526413e-03\n",
      " 5.83068904e-05 6.00631232e-04 4.10843000e-04 4.83110081e-03]\n"
     ]
    }
   ],
   "source": [
    "from xgboost import XGBRegressor\n",
    "#Q1\n",
    "\n",
    "model = XGBRegressor(n_estimators=1000,learning_rate=0.05,n_jobs=-1,random_state=0)\n",
    "\n",
    "#trained with train set which was preprocessed\n",
    "model.fit(X_train_imputed,y)\n",
    "print(model.feature_importances_)\n",
    "\n",
    "#made predictions with imputed x test\n",
    "\n",
    "#predictions_1 = my_model_1.predict(imputed_X_test)"
   ]
  },
  {
   "cell_type": "code",
   "execution_count": 4,
   "id": "3e0cd0e3",
   "metadata": {
    "execution": {
     "iopub.execute_input": "2022-06-10T14:42:59.215982Z",
     "iopub.status.busy": "2022-06-10T14:42:59.215504Z",
     "iopub.status.idle": "2022-06-10T14:42:59.224298Z",
     "shell.execute_reply": "2022-06-10T14:42:59.223170Z"
    },
    "papermill": {
     "duration": 0.019099,
     "end_time": "2022-06-10T14:42:59.226373",
     "exception": false,
     "start_time": "2022-06-10T14:42:59.207274",
     "status": "completed"
    },
    "tags": []
   },
   "outputs": [],
   "source": [
    "#Q2\n",
    "feature_importance_series = pd.Series(model.feature_importances_, name=\"Feature Importance\", index=X_train_imputed.columns)\n",
    "feature_importance_series = feature_importance_series.sort_values(ascending=False)"
   ]
  },
  {
   "cell_type": "code",
   "execution_count": 5,
   "id": "712e6a49",
   "metadata": {
    "execution": {
     "iopub.execute_input": "2022-06-10T14:42:59.242171Z",
     "iopub.status.busy": "2022-06-10T14:42:59.241770Z",
     "iopub.status.idle": "2022-06-10T14:42:59.247684Z",
     "shell.execute_reply": "2022-06-10T14:42:59.246758Z"
    },
    "papermill": {
     "duration": 0.016226,
     "end_time": "2022-06-10T14:42:59.249676",
     "exception": false,
     "start_time": "2022-06-10T14:42:59.233450",
     "status": "completed"
    },
    "tags": []
   },
   "outputs": [],
   "source": [
    "#Q3\n",
    "def plot_feature_importances(scores):\n",
    "    scores = scores.sort_values(ascending=True)\n",
    "    width = np.arange(len(scores))\n",
    "    ticks = list(scores.index)\n",
    "    plt.barh(width, scores)\n",
    "    plt.yticks(width, ticks)\n",
    "    plt.title(\"Feature Importance Scores from XGBRegressor\")"
   ]
  },
  {
   "cell_type": "code",
   "execution_count": 6,
   "id": "b427d949",
   "metadata": {
    "execution": {
     "iopub.execute_input": "2022-06-10T14:42:59.266066Z",
     "iopub.status.busy": "2022-06-10T14:42:59.265019Z",
     "iopub.status.idle": "2022-06-10T14:42:59.798257Z",
     "shell.execute_reply": "2022-06-10T14:42:59.797391Z"
    },
    "papermill": {
     "duration": 0.544263,
     "end_time": "2022-06-10T14:42:59.801009",
     "exception": false,
     "start_time": "2022-06-10T14:42:59.256746",
     "status": "completed"
    },
    "tags": []
   },
   "outputs": [
    {
     "data": {
      "image/png": "[encoded data removed]",
      "text/plain": [
       "<Figure size 2000x1500 with 1 Axes>"
      ]
     },
     "metadata": {},
     "output_type": "display_data"
    }
   ],
   "source": [
    "plt.figure(dpi=100, figsize=(20, 15))\n",
    "plot_feature_importances(feature_importance_series.head(20))"
   ]
  },
  {
   "cell_type": "code",
   "execution_count": 7,
   "id": "859b38fb",
   "metadata": {
    "execution": {
     "iopub.execute_input": "2022-06-10T14:42:59.820211Z",
     "iopub.status.busy": "2022-06-10T14:42:59.819349Z",
     "iopub.status.idle": "2022-06-10T14:42:59.829929Z",
     "shell.execute_reply": "2022-06-10T14:42:59.828926Z"
    },
    "papermill": {
     "duration": 0.022801,
     "end_time": "2022-06-10T14:42:59.832256",
     "exception": false,
     "start_time": "2022-06-10T14:42:59.809455",
     "status": "completed"
    },
    "tags": []
   },
   "outputs": [],
   "source": [
    "#Q4\n",
    "feature_importance_df = pd.DataFrame({\n",
    "                       'importance': model.feature_importances_}).set_index(X_train_imputed.columns)\n",
    "feature_importance_df = feature_importance_df.sort_values(by=['importance'], ascending=False)"
   ]
  },
  {
   "cell_type": "code",
   "execution_count": 8,
   "id": "31a21ee2",
   "metadata": {
    "execution": {
     "iopub.execute_input": "2022-06-10T14:42:59.851193Z",
     "iopub.status.busy": "2022-06-10T14:42:59.850300Z",
     "iopub.status.idle": "2022-06-10T14:42:59.857714Z",
     "shell.execute_reply": "2022-06-10T14:42:59.856920Z"
    },
    "papermill": {
     "duration": 0.019068,
     "end_time": "2022-06-10T14:42:59.859903",
     "exception": false,
     "start_time": "2022-06-10T14:42:59.840835",
     "status": "completed"
    },
    "tags": []
   },
   "outputs": [],
   "source": [
    "from sklearn.metrics import mean_absolute_error\n",
    "from sklearn.model_selection import cross_val_score\n",
    "#Q5\n",
    "def score_dataset(X_train_imputed,y,feature_importance_df,n_features):\n",
    "    features_selected = feature_importance_df.head(n_features).index\n",
    "    X_train_selected = X_train_imputed[features_selected]\n",
    "    model = XGBRegressor(n_estimators=1000,learning_rate=0.05,n_jobs=-1,random_state=0)\n",
    "    scores = -1 * cross_val_score(model,X_train_selected, y,\n",
    "                              cv=3,\n",
    "                              scoring='neg_mean_absolute_error')\n",
    "    return scores.mean()"
   ]
  },
  {
   "cell_type": "code",
   "execution_count": 9,
   "id": "e788d0c8",
   "metadata": {
    "execution": {
     "iopub.execute_input": "2022-06-10T14:42:59.878391Z",
     "iopub.status.busy": "2022-06-10T14:42:59.877643Z",
     "iopub.status.idle": "2022-06-10T14:44:34.698103Z",
     "shell.execute_reply": "2022-06-10T14:44:34.697211Z"
    },
    "papermill": {
     "duration": 94.832606,
     "end_time": "2022-06-10T14:44:34.700811",
     "exception": false,
     "start_time": "2022-06-10T14:42:59.868205",
     "status": "completed"
    },
    "tags": []
   },
   "outputs": [
    {
     "name": "stdout",
     "output_type": "stream",
     "text": [
      "n_features: 10   \t\t Mean Absolute Error:  20112.72754101825\n",
      "n_features: 20   \t\t Mean Absolute Error:  17878.244533661815\n",
      "n_features: 30   \t\t Mean Absolute Error:  16381.812836119288\n",
      "n_features: 40   \t\t Mean Absolute Error:  16022.24953853672\n",
      "n_features: 50   \t\t Mean Absolute Error:  16393.94024280205\n",
      "n_features: 60   \t\t Mean Absolute Error:  16342.98693005013\n",
      "n_features: 72   \t\t Mean Absolute Error:  16438.269921156516\n",
      "Best n_features size is: 40   \t\t Best Mean Absolute Error:  16022.24953853672\n"
     ]
    }
   ],
   "source": [
    "#Q6\n",
    "candidate_n_features = [10,20,30,40,50,60,72]\n",
    "\n",
    "\n",
    "\n",
    "small_mae2 = 100000000\n",
    "small_n_features = 0\n",
    "\n",
    "\n",
    "for n_feat in candidate_n_features:\n",
    "    my_mae =score_dataset(X_train_imputed,y,feature_importance_df,n_feat)\n",
    " \n",
    "    print(\"n_features: {}   \\t\\t Mean Absolute Error:  {}\".format(n_feat ,my_mae))\n",
    "    if my_mae < small_mae2 :      \n",
    "            small_mae2 = my_mae\n",
    "            small_n_features = n_feat\n",
    "\n",
    "\n",
    "\n",
    "best_n_features = small_n_features\n",
    "best_mae2 = small_mae2 \n",
    "print(\"Best n_features size is: {}   \\t\\t Best Mean Absolute Error:  {}\".format(best_n_features,best_mae2))"
   ]
  },
  {
   "cell_type": "code",
   "execution_count": 10,
   "id": "2ffcfb5d",
   "metadata": {
    "execution": {
     "iopub.execute_input": "2022-06-10T14:44:34.721732Z",
     "iopub.status.busy": "2022-06-10T14:44:34.720695Z",
     "iopub.status.idle": "2022-06-10T14:44:34.727715Z",
     "shell.execute_reply": "2022-06-10T14:44:34.726846Z"
    },
    "papermill": {
     "duration": 0.019152,
     "end_time": "2022-06-10T14:44:34.729835",
     "exception": false,
     "start_time": "2022-06-10T14:44:34.710683",
     "status": "completed"
    },
    "tags": []
   },
   "outputs": [],
   "source": [
    "#Q7\n",
    "features_selected = feature_importance_df.head(best_n_features).index\n",
    "X_train_selected = X_train_imputed[features_selected]\n",
    "X_test_selected = X_test_imputed[features_selected]"
   ]
  },
  {
   "cell_type": "code",
   "execution_count": 11,
   "id": "9710d8f9",
   "metadata": {
    "execution": {
     "iopub.execute_input": "2022-06-10T14:44:34.748650Z",
     "iopub.status.busy": "2022-06-10T14:44:34.748246Z",
     "iopub.status.idle": "2022-06-10T14:44:40.160885Z",
     "shell.execute_reply": "2022-06-10T14:44:40.160006Z"
    },
    "papermill": {
     "duration": 5.424554,
     "end_time": "2022-06-10T14:44:40.163156",
     "exception": false,
     "start_time": "2022-06-10T14:44:34.738602",
     "status": "completed"
    },
    "tags": []
   },
   "outputs": [],
   "source": [
    "model2 = XGBRegressor(n_estimators=1000,learning_rate=0.05,n_jobs=-1,random_state=0)\n",
    "\n",
    "model2.fit(X_train_selected,y)\n",
    "\n",
    "predictions2 = model2.predict(X_test_selected)"
   ]
  },
  {
   "cell_type": "code",
   "execution_count": 12,
   "id": "eb33cc50",
   "metadata": {
    "execution": {
     "iopub.execute_input": "2022-06-10T14:44:40.185123Z",
     "iopub.status.busy": "2022-06-10T14:44:40.184713Z",
     "iopub.status.idle": "2022-06-10T14:44:40.197806Z",
     "shell.execute_reply": "2022-06-10T14:44:40.196996Z"
    },
    "papermill": {
     "duration": 0.026395,
     "end_time": "2022-06-10T14:44:40.200123",
     "exception": false,
     "start_time": "2022-06-10T14:44:40.173728",
     "status": "completed"
    },
    "tags": []
   },
   "outputs": [],
   "source": [
    "#Q8\n",
    "output = pd.DataFrame({'Id': X_test.index,\n",
    "                       'SalePrice': predictions2})\n",
    "output.to_csv('submission2.csv', index=False)"
   ]
  },
  {
   "cell_type": "markdown",
   "id": "47411924",
   "metadata": {
    "papermill": {
     "duration": 0.008208,
     "end_time": "2022-06-10T14:44:40.217061",
     "exception": false,
     "start_time": "2022-06-10T14:44:40.208853",
     "status": "completed"
    },
    "tags": []
   },
   "source": [
    "Score= 14943.00916"
   ]
  },
  {
   "cell_type": "code",
   "execution_count": 13,
   "id": "7f7ad66e",
   "metadata": {
    "execution": {
     "iopub.execute_input": "2022-06-10T14:44:40.236240Z",
     "iopub.status.busy": "2022-06-10T14:44:40.235503Z",
     "iopub.status.idle": "2022-06-10T14:44:41.434753Z",
     "shell.execute_reply": "2022-06-10T14:44:41.433876Z"
    },
    "papermill": {
     "duration": 1.21162,
     "end_time": "2022-06-10T14:44:41.437234",
     "exception": false,
     "start_time": "2022-06-10T14:44:40.225614",
     "status": "completed"
    },
    "tags": []
   },
   "outputs": [
    {
     "data": {
      "text/html": [
       "<style type='text/css'>\n",
       ".datatable table.frame { margin-bottom: 0; }\n",
       ".datatable table.frame thead { border-bottom: none; }\n",
       ".datatable table.frame tr.coltypes td {  color: #FFFFFF;  line-height: 6px;  padding: 0 0.5em;}\n",
       ".datatable .bool    { background: #DDDD99; }\n",
       ".datatable .object  { background: #565656; }\n",
       ".datatable .int     { background: #5D9E5D; }\n",
       ".datatable .float   { background: #4040CC; }\n",
       ".datatable .str     { background: #CC4040; }\n",
       ".datatable .time    { background: #40CC40; }\n",
       ".datatable .row_index {  background: var(--jp-border-color3);  border-right: 1px solid var(--jp-border-color0);  color: var(--jp-ui-font-color3);  font-size: 9px;}\n",
       ".datatable .frame tbody td { text-align: left; }\n",
       ".datatable .frame tr.coltypes .row_index {  background: var(--jp-border-color0);}\n",
       ".datatable th:nth-child(2) { padding-left: 12px; }\n",
       ".datatable .hellipsis {  color: var(--jp-cell-editor-border-color);}\n",
       ".datatable .vellipsis {  background: var(--jp-layout-color0);  color: var(--jp-cell-editor-border-color);}\n",
       ".datatable .na {  color: var(--jp-cell-editor-border-color);  font-size: 80%;}\n",
       ".datatable .sp {  opacity: 0.25;}\n",
       ".datatable .footer { font-size: 9px; }\n",
       ".datatable .frame_dimensions {  background: var(--jp-border-color3);  border-top: 1px solid var(--jp-border-color0);  color: var(--jp-ui-font-color3);  display: inline-block;  opacity: 0.6;  padding: 1px 10px 1px 5px;}\n",
       "</style>\n"
      ],
      "text/plain": [
       "<IPython.core.display.HTML object>"
      ]
     },
     "metadata": {},
     "output_type": "display_data"
    }
   ],
   "source": [
    "#Q9\n",
    "from lightgbm import LGBMRegressor\n",
    "\n",
    "model3  =LGBMRegressor(n_estimators=100,learning_rate=0.05,n_jobs=-1,random_state=0)\n",
    "\n",
    "model3.fit(X_train_selected,y)\n",
    "\n",
    "predictions3 = model3.predict(X_test_selected)"
   ]
  },
  {
   "cell_type": "code",
   "execution_count": 14,
   "id": "fbf2a829",
   "metadata": {
    "execution": {
     "iopub.execute_input": "2022-06-10T14:44:41.459081Z",
     "iopub.status.busy": "2022-06-10T14:44:41.458683Z",
     "iopub.status.idle": "2022-06-10T14:44:41.471369Z",
     "shell.execute_reply": "2022-06-10T14:44:41.470543Z"
    },
    "papermill": {
     "duration": 0.025656,
     "end_time": "2022-06-10T14:44:41.473670",
     "exception": false,
     "start_time": "2022-06-10T14:44:41.448014",
     "status": "completed"
    },
    "tags": []
   },
   "outputs": [],
   "source": [
    "#Q10\n",
    "output2 = pd.DataFrame({'Id': X_test.index,\n",
    "                       'SalePrice': predictions3})\n",
    "output2.to_csv('submission_3.csv', index=False)"
   ]
  },
  {
   "cell_type": "markdown",
   "id": "00bb8899",
   "metadata": {
    "papermill": {
     "duration": 0.008872,
     "end_time": "2022-06-10T14:44:41.491682",
     "exception": false,
     "start_time": "2022-06-10T14:44:41.482810",
     "status": "completed"
    },
    "tags": []
   },
   "source": [
    "Score: 14871.62897"
   ]
  },
  {
   "cell_type": "code",
   "execution_count": 15,
   "id": "3caa0ed9",
   "metadata": {
    "execution": {
     "iopub.execute_input": "2022-06-10T14:44:41.511042Z",
     "iopub.status.busy": "2022-06-10T14:44:41.510651Z",
     "iopub.status.idle": "2022-06-10T14:44:41.514764Z",
     "shell.execute_reply": "2022-06-10T14:44:41.513927Z"
    },
    "papermill": {
     "duration": 0.015959,
     "end_time": "2022-06-10T14:44:41.516725",
     "exception": false,
     "start_time": "2022-06-10T14:44:41.500766",
     "status": "completed"
    },
    "tags": []
   },
   "outputs": [],
   "source": [
    "#Q11\n",
    "preds_average = (predictions2+predictions3) / 2"
   ]
  },
  {
   "cell_type": "code",
   "execution_count": 16,
   "id": "8c7f0e7e",
   "metadata": {
    "execution": {
     "iopub.execute_input": "2022-06-10T14:44:41.536496Z",
     "iopub.status.busy": "2022-06-10T14:44:41.535827Z",
     "iopub.status.idle": "2022-06-10T14:44:41.546934Z",
     "shell.execute_reply": "2022-06-10T14:44:41.546064Z"
    },
    "papermill": {
     "duration": 0.023112,
     "end_time": "2022-06-10T14:44:41.548988",
     "exception": false,
     "start_time": "2022-06-10T14:44:41.525876",
     "status": "completed"
    },
    "tags": []
   },
   "outputs": [],
   "source": [
    "#Q12\n",
    "output3 = pd.DataFrame({'Id': X_test.index,\n",
    "                       'SalePrice': preds_average})\n",
    "output3.to_csv('submission_4.csv', index=False)"
   ]
  },
  {
   "cell_type": "markdown",
   "id": "5a5d3d56",
   "metadata": {
    "papermill": {
     "duration": 0.008392,
     "end_time": "2022-06-10T14:44:41.566188",
     "exception": false,
     "start_time": "2022-06-10T14:44:41.557796",
     "status": "completed"
    },
    "tags": []
   },
   "source": [
    "Score: 14591.46470"
   ]
  },
  {
   "cell_type": "code",
   "execution_count": 17,
   "id": "ed3f0288",
   "metadata": {
    "execution": {
     "iopub.execute_input": "2022-06-10T14:44:41.585737Z",
     "iopub.status.busy": "2022-06-10T14:44:41.585166Z",
     "iopub.status.idle": "2022-06-10T14:44:48.322878Z",
     "shell.execute_reply": "2022-06-10T14:44:48.322031Z"
    },
    "papermill": {
     "duration": 6.750825,
     "end_time": "2022-06-10T14:44:48.325721",
     "exception": false,
     "start_time": "2022-06-10T14:44:41.574896",
     "status": "completed"
    },
    "tags": []
   },
   "outputs": [],
   "source": [
    "from sklearn.preprocessing import MinMaxScaler\n",
    "#Q13\n",
    "scaler = MinMaxScaler()\n",
    "X_train_selected_scaled = scaler.fit_transform(X_train_selected)\n",
    "X_test_selected_scaled = scaler.transform(X_test_selected)\n",
    "\n",
    "model4 = XGBRegressor(n_estimators=1000,learning_rate=0.05,n_jobs=-1,random_state=0)\n",
    "model4.fit(X_train_selected_scaled,y)\n",
    "predictions4 = model4.predict(X_test_selected_scaled)\n",
    "\n"
   ]
  },
  {
   "cell_type": "markdown",
   "id": "89013a8e",
   "metadata": {
    "papermill": {
     "duration": 0.009401,
     "end_time": "2022-06-10T14:44:48.347081",
     "exception": false,
     "start_time": "2022-06-10T14:44:48.337680",
     "status": "completed"
    },
    "tags": []
   },
   "source": [
    "Actually differnce between scores are too small so I dont think that we can say that one performs better than the other. It might be because of dataset but as I said, in a situation like this, we  cannot say one performs better than the other."
   ]
  },
  {
   "cell_type": "code",
   "execution_count": 18,
   "id": "8536325f",
   "metadata": {
    "execution": {
     "iopub.execute_input": "2022-06-10T14:44:48.369504Z",
     "iopub.status.busy": "2022-06-10T14:44:48.369107Z",
     "iopub.status.idle": "2022-06-10T14:44:48.380363Z",
     "shell.execute_reply": "2022-06-10T14:44:48.379288Z"
    },
    "papermill": {
     "duration": 0.026051,
     "end_time": "2022-06-10T14:44:48.382948",
     "exception": false,
     "start_time": "2022-06-10T14:44:48.356897",
     "status": "completed"
    },
    "tags": []
   },
   "outputs": [],
   "source": [
    "output4 = pd.DataFrame({'Id': X_test.index,\n",
    "                       'SalePrice': predictions4})\n",
    "output4.to_csv('submission_5.csv', index=False)"
   ]
  },
  {
   "cell_type": "markdown",
   "id": "5535053c",
   "metadata": {
    "papermill": {
     "duration": 0.008603,
     "end_time": "2022-06-10T14:44:48.400665",
     "exception": false,
     "start_time": "2022-06-10T14:44:48.392062",
     "status": "completed"
    },
    "tags": []
   },
   "source": [
    "Score: 14949.32209"
   ]
  },
  {
   "cell_type": "markdown",
   "id": "c90a960d",
   "metadata": {
    "papermill": {
     "duration": 0.008616,
     "end_time": "2022-06-10T14:44:48.417989",
     "exception": false,
     "start_time": "2022-06-10T14:44:48.409373",
     "status": "completed"
    },
    "tags": []
   },
   "source": [
    "Q14:\n",
    "\n",
    "This is about data leakage problem. In data leakage chapter, we saw that if we do preprocessing of data before calling train_test_split, our dataset corrupts and it might give high validation accuracy but when we make real predictions, our model works poorly. \n",
    "So, my answer is, we should first split our dataset as train and test, then we should preprocess our data."
   ]
  }
 ],
 "metadata": {
  "kernelspec": {
   "display_name": "Python 3",
   "language": "python",
   "name": "python3"
  },
  "language_info": {
   "codemirror_mode": {
    "name": "ipython",
    "version": 3
   },
   "file_extension": ".py",
   "mimetype": "text/x-python",
   "name": "python",
   "nbconvert_exporter": "python",
   "pygments_lexer": "ipython3",
   "version": "3.7.12"
  },
  "papermill": {
   "default_parameters": {},
   "duration": 132.362406,
   "end_time": "2022-06-10T14:44:49.349055",
   "environment_variables": {},
   "exception": null,
   "input_path": "__notebook__.ipynb",
   "output_path": "__notebook__.ipynb",
   "parameters": {},
   "start_time": "2022-06-10T14:42:36.986649",
   "version": "2.3.4"
  }
 },
 "nbformat": 4,
 "nbformat_minor": 5
}
