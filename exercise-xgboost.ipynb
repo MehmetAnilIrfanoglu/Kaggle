{
 "cells": [
  {
   "cell_type": "markdown",
   "id": "83925d8f",
   "metadata": {
    "papermill": {
     "duration": 0.022058,
     "end_time": "2022-05-09T22:45:52.425507",
     "exception": false,
     "start_time": "2022-05-09T22:45:52.403449",
     "status": "completed"
    },
    "tags": []
   },
   "source": [
    "**This notebook is an exercise in the [Intermediate Machine Learning](https://www.kaggle.com/learn/intermediate-machine-learning) course.  You can reference the tutorial at [this link](https://www.kaggle.com/alexisbcook/xgboost).**\n",
    "\n",
    "---\n"
   ]
  },
  {
   "cell_type": "markdown",
   "id": "b8241388",
   "metadata": {
    "papermill": {
     "duration": 0.020958,
     "end_time": "2022-05-09T22:45:52.467731",
     "exception": false,
     "start_time": "2022-05-09T22:45:52.446773",
     "status": "completed"
    },
    "tags": []
   },
   "source": [
    "In this exercise, you will use your new knowledge to train a model with **gradient boosting**.\n",
    "\n",
    "# Setup\n",
    "\n",
    "The questions below will give you feedback on your work. Run the following cell to set up the feedback system."
   ]
  },
  {
   "cell_type": "code",
   "execution_count": 1,
   "id": "91c0bda6",
   "metadata": {
    "execution": {
     "iopub.execute_input": "2022-05-09T22:45:52.511655Z",
     "iopub.status.busy": "2022-05-09T22:45:52.510749Z",
     "iopub.status.idle": "2022-05-09T22:45:54.981214Z",
     "shell.execute_reply": "2022-05-09T22:45:54.980488Z"
    },
    "papermill": {
     "duration": 2.495208,
     "end_time": "2022-05-09T22:45:54.983709",
     "exception": false,
     "start_time": "2022-05-09T22:45:52.488501",
     "status": "completed"
    },
    "tags": []
   },
   "outputs": [
    {
     "name": "stdout",
     "output_type": "stream",
     "text": [
      "Setup Complete\n"
     ]
    }
   ],
   "source": [
    "# Set up code checking\n",
    "import os\n",
    "if not os.path.exists(\"../input/train.csv\"):\n",
    "    os.symlink(\"../input/home-data-for-ml-course/train.csv\", \"../input/train.csv\")  \n",
    "    os.symlink(\"../input/home-data-for-ml-course/test.csv\", \"../input/test.csv\") \n",
    "from learntools.core import binder\n",
    "binder.bind(globals())\n",
    "from learntools.ml_intermediate.ex6 import *\n",
    "print(\"Setup Complete\")"
   ]
  },
  {
   "cell_type": "markdown",
   "id": "1ecc7e23",
   "metadata": {
    "papermill": {
     "duration": 0.021385,
     "end_time": "2022-05-09T22:45:55.027404",
     "exception": false,
     "start_time": "2022-05-09T22:45:55.006019",
     "status": "completed"
    },
    "tags": []
   },
   "source": [
    "You will work with the [Housing Prices Competition for Kaggle Learn Users](https://www.kaggle.com/c/home-data-for-ml-course) dataset from the previous exercise. \n",
    "\n",
    "![Ames Housing dataset image](https://i.imgur.com/lTJVG4e.png)\n",
    "\n",
    "Run the next code cell without changes to load the training and validation sets in `X_train`, `X_valid`, `y_train`, and `y_valid`.  The test set is loaded in `X_test`."
   ]
  },
  {
   "cell_type": "code",
   "execution_count": 2,
   "id": "2b5829d5",
   "metadata": {
    "execution": {
     "iopub.execute_input": "2022-05-09T22:45:55.072103Z",
     "iopub.status.busy": "2022-05-09T22:45:55.071589Z",
     "iopub.status.idle": "2022-05-09T22:45:55.267339Z",
     "shell.execute_reply": "2022-05-09T22:45:55.266466Z"
    },
    "papermill": {
     "duration": 0.220629,
     "end_time": "2022-05-09T22:45:55.269730",
     "exception": false,
     "start_time": "2022-05-09T22:45:55.049101",
     "status": "completed"
    },
    "tags": []
   },
   "outputs": [],
   "source": [
    "import pandas as pd\n",
    "from sklearn.model_selection import train_test_split\n",
    "\n",
    "# Read the data\n",
    "X = pd.read_csv('../input/train.csv', index_col='Id')\n",
    "X_test_full = pd.read_csv('../input/test.csv', index_col='Id')\n",
    "\n",
    "# Remove rows with missing target, separate target from predictors\n",
    "X.dropna(axis=0, subset=['SalePrice'], inplace=True)\n",
    "y = X.SalePrice              \n",
    "X.drop(['SalePrice'], axis=1, inplace=True)\n",
    "\n",
    "# Break off validation set from training data\n",
    "X_train_full, X_valid_full, y_train, y_valid = train_test_split(X, y, train_size=0.8, test_size=0.2,\n",
    "                                                                random_state=0)\n",
    "\n",
    "# \"Cardinality\" means the number of unique values in a column\n",
    "# Select categorical columns with relatively low cardinality (convenient but arbitrary)\n",
    "low_cardinality_cols = [cname for cname in X_train_full.columns if X_train_full[cname].nunique() < 10 and \n",
    "                        X_train_full[cname].dtype == \"object\"]\n",
    "\n",
    "# Select numeric columns\n",
    "numeric_cols = [cname for cname in X_train_full.columns if X_train_full[cname].dtype in ['int64', 'float64']]\n",
    "\n",
    "# Keep selected columns only\n",
    "my_cols = low_cardinality_cols + numeric_cols\n",
    "X_train = X_train_full[my_cols].copy()\n",
    "X_valid = X_valid_full[my_cols].copy()\n",
    "X_test = X_test_full[my_cols].copy()\n",
    "\n",
    "# One-hot encode the data (to shorten the code, we use pandas)\n",
    "X_train = pd.get_dummies(X_train)\n",
    "X_valid = pd.get_dummies(X_valid)\n",
    "X_test = pd.get_dummies(X_test)\n",
    "X_train, X_valid = X_train.align(X_valid, join='left', axis=1)\n",
    "X_train, X_test = X_train.align(X_test, join='left', axis=1)"
   ]
  },
  {
   "cell_type": "markdown",
   "id": "cc13afb0",
   "metadata": {
    "papermill": {
     "duration": 0.020818,
     "end_time": "2022-05-09T22:45:55.311649",
     "exception": false,
     "start_time": "2022-05-09T22:45:55.290831",
     "status": "completed"
    },
    "tags": []
   },
   "source": [
    "# Step 1: Build model\n",
    "\n",
    "### Part A\n",
    "\n",
    "In this step, you'll build and train your first model with gradient boosting.\n",
    "\n",
    "- Begin by setting `my_model_1` to an XGBoost model.  Use the [XGBRegressor](https://xgboost.readthedocs.io/en/latest/python/python_api.html#xgboost.XGBRegressor) class, and set the random seed to 0 (`random_state=0`).  **Leave all other parameters as default.**\n",
    "- Then, fit the model to the training data in `X_train` and `y_train`."
   ]
  },
  {
   "cell_type": "code",
   "execution_count": 3,
   "id": "c7dfba8c",
   "metadata": {
    "execution": {
     "iopub.execute_input": "2022-05-09T22:45:55.355324Z",
     "iopub.status.busy": "2022-05-09T22:45:55.355043Z",
     "iopub.status.idle": "2022-05-09T22:45:56.285037Z",
     "shell.execute_reply": "2022-05-09T22:45:56.284372Z"
    },
    "papermill": {
     "duration": 0.954459,
     "end_time": "2022-05-09T22:45:56.287304",
     "exception": false,
     "start_time": "2022-05-09T22:45:55.332845",
     "status": "completed"
    },
    "tags": []
   },
   "outputs": [
    {
     "data": {
      "application/javascript": [
       "parent.postMessage({\"jupyterEvent\": \"custom.exercise_interaction\", \"data\": {\"outcomeType\": 1, \"valueTowardsCompletion\": 0.5, \"interactionType\": 1, \"questionType\": 2, \"questionId\": \"1.1_Model1A\", \"learnToolsVersion\": \"0.3.4\", \"failureMessage\": \"\", \"exceptionClass\": \"\", \"trace\": \"\"}}, \"*\")"
      ],
      "text/plain": [
       "<IPython.core.display.Javascript object>"
      ]
     },
     "metadata": {},
     "output_type": "display_data"
    },
    {
     "data": {
      "text/markdown": [
       "<span style=\"color:#33cc33\">Correct</span>"
      ],
      "text/plain": [
       "Correct"
      ]
     },
     "metadata": {},
     "output_type": "display_data"
    }
   ],
   "source": [
    "from xgboost import XGBRegressor\n",
    "\n",
    "# Define the model\n",
    "my_model_1 = XGBRegressor(random_state=0)\n",
    "\n",
    "# Fit the model\n",
    "my_model_1.fit(X_train,y_train)\n",
    "\n",
    "# Check your answer\n",
    "step_1.a.check()"
   ]
  },
  {
   "cell_type": "code",
   "execution_count": 4,
   "id": "d24e384f",
   "metadata": {
    "execution": {
     "iopub.execute_input": "2022-05-09T22:45:56.334306Z",
     "iopub.status.busy": "2022-05-09T22:45:56.333526Z",
     "iopub.status.idle": "2022-05-09T22:45:56.336997Z",
     "shell.execute_reply": "2022-05-09T22:45:56.336300Z"
    },
    "papermill": {
     "duration": 0.028842,
     "end_time": "2022-05-09T22:45:56.338848",
     "exception": false,
     "start_time": "2022-05-09T22:45:56.310006",
     "status": "completed"
    },
    "tags": []
   },
   "outputs": [],
   "source": [
    "# Lines below will give you a hint or solution code\n",
    "#step_1.a.hint()\n",
    "#step_1.a.solution()"
   ]
  },
  {
   "cell_type": "markdown",
   "id": "d44378ff",
   "metadata": {
    "papermill": {
     "duration": 0.023897,
     "end_time": "2022-05-09T22:45:56.385758",
     "exception": false,
     "start_time": "2022-05-09T22:45:56.361861",
     "status": "completed"
    },
    "tags": []
   },
   "source": [
    "### Part B\n",
    "\n",
    "Set `predictions_1` to the model's predictions for the validation data.  Recall that the validation features are stored in `X_valid`."
   ]
  },
  {
   "cell_type": "code",
   "execution_count": 5,
   "id": "e7502d77",
   "metadata": {
    "execution": {
     "iopub.execute_input": "2022-05-09T22:45:56.432143Z",
     "iopub.status.busy": "2022-05-09T22:45:56.431561Z",
     "iopub.status.idle": "2022-05-09T22:45:56.464210Z",
     "shell.execute_reply": "2022-05-09T22:45:56.463422Z"
    },
    "papermill": {
     "duration": 0.058675,
     "end_time": "2022-05-09T22:45:56.466585",
     "exception": false,
     "start_time": "2022-05-09T22:45:56.407910",
     "status": "completed"
    },
    "tags": []
   },
   "outputs": [
    {
     "data": {
      "application/javascript": [
       "parent.postMessage({\"jupyterEvent\": \"custom.exercise_interaction\", \"data\": {\"outcomeType\": 1, \"valueTowardsCompletion\": 0.5, \"interactionType\": 1, \"questionType\": 2, \"questionId\": \"1.2_Model1B\", \"learnToolsVersion\": \"0.3.4\", \"failureMessage\": \"\", \"exceptionClass\": \"\", \"trace\": \"\"}}, \"*\")"
      ],
      "text/plain": [
       "<IPython.core.display.Javascript object>"
      ]
     },
     "metadata": {},
     "output_type": "display_data"
    },
    {
     "data": {
      "text/markdown": [
       "<span style=\"color:#33cc33\">Correct</span>"
      ],
      "text/plain": [
       "Correct"
      ]
     },
     "metadata": {},
     "output_type": "display_data"
    }
   ],
   "source": [
    "from sklearn.metrics import mean_absolute_error\n",
    "\n",
    "# Get predictions\n",
    "predictions_1 = my_model_1.predict(X_valid)\n",
    "\n",
    "# Check your answer\n",
    "step_1.b.check()"
   ]
  },
  {
   "cell_type": "code",
   "execution_count": 6,
   "id": "413e5e2f",
   "metadata": {
    "execution": {
     "iopub.execute_input": "2022-05-09T22:45:56.515306Z",
     "iopub.status.busy": "2022-05-09T22:45:56.515035Z",
     "iopub.status.idle": "2022-05-09T22:45:56.518487Z",
     "shell.execute_reply": "2022-05-09T22:45:56.517635Z"
    },
    "papermill": {
     "duration": 0.030024,
     "end_time": "2022-05-09T22:45:56.520533",
     "exception": false,
     "start_time": "2022-05-09T22:45:56.490509",
     "status": "completed"
    },
    "tags": []
   },
   "outputs": [],
   "source": [
    "# Lines below will give you a hint or solution code\n",
    "#step_1.b.hint()\n",
    "#step_1.b.solution()"
   ]
  },
  {
   "cell_type": "markdown",
   "id": "359429e3",
   "metadata": {
    "papermill": {
     "duration": 0.023191,
     "end_time": "2022-05-09T22:45:56.567649",
     "exception": false,
     "start_time": "2022-05-09T22:45:56.544458",
     "status": "completed"
    },
    "tags": []
   },
   "source": [
    "### Part C\n",
    "\n",
    "Finally, use the `mean_absolute_error()` function to calculate the mean absolute error (MAE) corresponding to the predictions for the validation set.  Recall that the labels for the validation data are stored in `y_valid`."
   ]
  },
  {
   "cell_type": "code",
   "execution_count": 7,
   "id": "6681ffcf",
   "metadata": {
    "execution": {
     "iopub.execute_input": "2022-05-09T22:45:56.616220Z",
     "iopub.status.busy": "2022-05-09T22:45:56.615913Z",
     "iopub.status.idle": "2022-05-09T22:45:56.624819Z",
     "shell.execute_reply": "2022-05-09T22:45:56.624253Z"
    },
    "papermill": {
     "duration": 0.035873,
     "end_time": "2022-05-09T22:45:56.627032",
     "exception": false,
     "start_time": "2022-05-09T22:45:56.591159",
     "status": "completed"
    },
    "tags": []
   },
   "outputs": [
    {
     "name": "stdout",
     "output_type": "stream",
     "text": [
      "Mean Absolute Error: 17662.736729452055\n"
     ]
    },
    {
     "data": {
      "application/javascript": [
       "parent.postMessage({\"jupyterEvent\": \"custom.exercise_interaction\", \"data\": {\"outcomeType\": 1, \"valueTowardsCompletion\": 0.5, \"interactionType\": 1, \"questionType\": 2, \"questionId\": \"1.3_Model1C\", \"learnToolsVersion\": \"0.3.4\", \"failureMessage\": \"\", \"exceptionClass\": \"\", \"trace\": \"\"}}, \"*\")"
      ],
      "text/plain": [
       "<IPython.core.display.Javascript object>"
      ]
     },
     "metadata": {},
     "output_type": "display_data"
    },
    {
     "data": {
      "text/markdown": [
       "<span style=\"color:#33cc33\">Correct</span>"
      ],
      "text/plain": [
       "Correct"
      ]
     },
     "metadata": {},
     "output_type": "display_data"
    }
   ],
   "source": [
    "# Calculate MAE\n",
    "mae_1 = mean_absolute_error(predictions_1,y_valid) # Your code here\n",
    "\n",
    "# Uncomment to print MAE\n",
    "print(\"Mean Absolute Error:\" , mae_1)\n",
    "\n",
    "# Check your answer\n",
    "step_1.c.check()"
   ]
  },
  {
   "cell_type": "code",
   "execution_count": 8,
   "id": "d916f8fe",
   "metadata": {
    "execution": {
     "iopub.execute_input": "2022-05-09T22:45:56.679650Z",
     "iopub.status.busy": "2022-05-09T22:45:56.679219Z",
     "iopub.status.idle": "2022-05-09T22:45:56.682593Z",
     "shell.execute_reply": "2022-05-09T22:45:56.682003Z"
    },
    "papermill": {
     "duration": 0.031954,
     "end_time": "2022-05-09T22:45:56.684441",
     "exception": false,
     "start_time": "2022-05-09T22:45:56.652487",
     "status": "completed"
    },
    "tags": []
   },
   "outputs": [],
   "source": [
    "# Lines below will give you a hint or solution code\n",
    "#step_1.c.hint()\n",
    "#step_1.c.solution()"
   ]
  },
  {
   "cell_type": "markdown",
   "id": "779afc67",
   "metadata": {
    "papermill": {
     "duration": 0.024987,
     "end_time": "2022-05-09T22:45:56.735049",
     "exception": false,
     "start_time": "2022-05-09T22:45:56.710062",
     "status": "completed"
    },
    "tags": []
   },
   "source": [
    "# Step 2: Improve the model\n",
    "\n",
    "Now that you've trained a default model as baseline, it's time to tinker with the parameters, to see if you can get better performance!\n",
    "- Begin by setting `my_model_2` to an XGBoost model, using the [XGBRegressor](https://xgboost.readthedocs.io/en/latest/python/python_api.html#xgboost.XGBRegressor) class.  Use what you learned in the previous tutorial to figure out how to change the default parameters (like `n_estimators` and `learning_rate`) to get better results.\n",
    "- Then, fit the model to the training data in `X_train` and `y_train`.\n",
    "- Set `predictions_2` to the model's predictions for the validation data.  Recall that the validation features are stored in `X_valid`.\n",
    "- Finally, use the `mean_absolute_error()` function to calculate the mean absolute error (MAE) corresponding to the predictions on the validation set.  Recall that the labels for the validation data are stored in `y_valid`.\n",
    "\n",
    "In order for this step to be marked correct, your model in `my_model_2` must attain lower MAE than the model in `my_model_1`. "
   ]
  },
  {
   "cell_type": "code",
   "execution_count": 9,
   "id": "1e5cc3f4",
   "metadata": {
    "execution": {
     "iopub.execute_input": "2022-05-09T22:45:56.796072Z",
     "iopub.status.busy": "2022-05-09T22:45:56.795760Z",
     "iopub.status.idle": "2022-05-09T22:46:06.609185Z",
     "shell.execute_reply": "2022-05-09T22:46:06.608018Z"
    },
    "papermill": {
     "duration": 9.850134,
     "end_time": "2022-05-09T22:46:06.612830",
     "exception": false,
     "start_time": "2022-05-09T22:45:56.762696",
     "status": "completed"
    },
    "tags": []
   },
   "outputs": [
    {
     "name": "stdout",
     "output_type": "stream",
     "text": [
      "Mean Absolute Error: 16688.691513270547\n"
     ]
    },
    {
     "data": {
      "application/javascript": [
       "parent.postMessage({\"jupyterEvent\": \"custom.exercise_interaction\", \"data\": {\"outcomeType\": 1, \"valueTowardsCompletion\": 0.5, \"interactionType\": 1, \"questionType\": 2, \"questionId\": \"2_Model2\", \"learnToolsVersion\": \"0.3.4\", \"failureMessage\": \"\", \"exceptionClass\": \"\", \"trace\": \"\"}}, \"*\")"
      ],
      "text/plain": [
       "<IPython.core.display.Javascript object>"
      ]
     },
     "metadata": {},
     "output_type": "display_data"
    },
    {
     "data": {
      "text/markdown": [
       "<span style=\"color:#33cc33\">Correct</span>"
      ],
      "text/plain": [
       "Correct"
      ]
     },
     "metadata": {},
     "output_type": "display_data"
    }
   ],
   "source": [
    "# Define the model\n",
    "my_model_2 =  XGBRegressor(n_estimators=1000,learning_rate=0.05)\n",
    "\n",
    "# Fit the model\n",
    "my_model_2.fit(X_train, y_train)\n",
    "\n",
    "# Get predictions\n",
    "predictions_2 = my_model_2.predict(X_valid)\n",
    "\n",
    "# Calculate MAE\n",
    "mae_2 = mean_absolute_error(predictions_2,y_valid)\n",
    "\n",
    "# Uncomment to print MAE\n",
    "print(\"Mean Absolute Error:\" , mae_2)\n",
    "\n",
    "# Check your answer\n",
    "step_2.check()"
   ]
  },
  {
   "cell_type": "code",
   "execution_count": 10,
   "id": "c9016a81",
   "metadata": {
    "execution": {
     "iopub.execute_input": "2022-05-09T22:46:06.670296Z",
     "iopub.status.busy": "2022-05-09T22:46:06.670024Z",
     "iopub.status.idle": "2022-05-09T22:46:06.673590Z",
     "shell.execute_reply": "2022-05-09T22:46:06.672731Z"
    },
    "papermill": {
     "duration": 0.033649,
     "end_time": "2022-05-09T22:46:06.675672",
     "exception": false,
     "start_time": "2022-05-09T22:46:06.642023",
     "status": "completed"
    },
    "tags": []
   },
   "outputs": [],
   "source": [
    "# Lines below will give you a hint or solution code\n",
    "#step_2.hint()\n",
    "#step_2.solution()"
   ]
  },
  {
   "cell_type": "markdown",
   "id": "c2635fc4",
   "metadata": {
    "papermill": {
     "duration": 0.026487,
     "end_time": "2022-05-09T22:46:06.729080",
     "exception": false,
     "start_time": "2022-05-09T22:46:06.702593",
     "status": "completed"
    },
    "tags": []
   },
   "source": [
    "# Step 3: Break the model\n",
    "\n",
    "In this step, you will create a model that performs worse than the original model in Step 1.  This will help you to develop your intuition for how to set parameters.  You might even find that you accidentally get better performance, which is ultimately a nice problem to have and a valuable learning experience!\n",
    "- Begin by setting `my_model_3` to an XGBoost model, using the [XGBRegressor](https://xgboost.readthedocs.io/en/latest/python/python_api.html#xgboost.XGBRegressor) class.  Use what you learned in the previous tutorial to figure out how to change the default parameters (like `n_estimators` and `learning_rate`) to design a model to get high MAE.\n",
    "- Then, fit the model to the training data in `X_train` and `y_train`.\n",
    "- Set `predictions_3` to the model's predictions for the validation data.  Recall that the validation features are stored in `X_valid`.\n",
    "- Finally, use the `mean_absolute_error()` function to calculate the mean absolute error (MAE) corresponding to the predictions on the validation set.  Recall that the labels for the validation data are stored in `y_valid`.\n",
    "\n",
    "In order for this step to be marked correct, your model in `my_model_3` must attain higher MAE than the model in `my_model_1`. "
   ]
  },
  {
   "cell_type": "code",
   "execution_count": 11,
   "id": "fd77ca05",
   "metadata": {
    "execution": {
     "iopub.execute_input": "2022-05-09T22:46:06.785770Z",
     "iopub.status.busy": "2022-05-09T22:46:06.785475Z",
     "iopub.status.idle": "2022-05-09T22:46:06.851532Z",
     "shell.execute_reply": "2022-05-09T22:46:06.850432Z"
    },
    "papermill": {
     "duration": 0.096461,
     "end_time": "2022-05-09T22:46:06.853704",
     "exception": false,
     "start_time": "2022-05-09T22:46:06.757243",
     "status": "completed"
    },
    "tags": []
   },
   "outputs": [
    {
     "name": "stdout",
     "output_type": "stream",
     "text": [
      "Mean Absolute Error: 127895.0828807256\n"
     ]
    },
    {
     "data": {
      "application/javascript": [
       "parent.postMessage({\"jupyterEvent\": \"custom.exercise_interaction\", \"data\": {\"outcomeType\": 1, \"valueTowardsCompletion\": 0.5, \"interactionType\": 1, \"questionType\": 2, \"questionId\": \"3_Model3\", \"learnToolsVersion\": \"0.3.4\", \"failureMessage\": \"\", \"exceptionClass\": \"\", \"trace\": \"\"}}, \"*\")"
      ],
      "text/plain": [
       "<IPython.core.display.Javascript object>"
      ]
     },
     "metadata": {},
     "output_type": "display_data"
    },
    {
     "data": {
      "text/markdown": [
       "<span style=\"color:#33cc33\">Correct</span>"
      ],
      "text/plain": [
       "Correct"
      ]
     },
     "metadata": {},
     "output_type": "display_data"
    }
   ],
   "source": [
    "# Define the model\n",
    "my_model_3 = XGBRegressor(n_estimators=1)\n",
    "\n",
    "# Fit the model\n",
    "my_model_3.fit(X_train, y_train)\n",
    "\n",
    "# Get predictions\n",
    "predictions_3 = my_model_3.predict(X_valid)\n",
    "\n",
    "# Calculate MAE\n",
    "mae_3 = mean_absolute_error(predictions_3, y_valid)\n",
    "print(\"Mean Absolute Error:\" , mae_3)\n",
    "\n",
    "# Check your answer\n",
    "step_3.check()"
   ]
  },
  {
   "cell_type": "code",
   "execution_count": 12,
   "id": "f668405a",
   "metadata": {
    "execution": {
     "iopub.execute_input": "2022-05-09T22:46:06.915351Z",
     "iopub.status.busy": "2022-05-09T22:46:06.915084Z",
     "iopub.status.idle": "2022-05-09T22:46:06.921464Z",
     "shell.execute_reply": "2022-05-09T22:46:06.920920Z"
    },
    "papermill": {
     "duration": 0.037887,
     "end_time": "2022-05-09T22:46:06.923166",
     "exception": false,
     "start_time": "2022-05-09T22:46:06.885279",
     "status": "completed"
    },
    "tags": []
   },
   "outputs": [
    {
     "data": {
      "application/javascript": [
       "parent.postMessage({\"jupyterEvent\": \"custom.exercise_interaction\", \"data\": {\"interactionType\": 3, \"questionType\": 2, \"questionId\": \"3_Model3\", \"learnToolsVersion\": \"0.3.4\", \"valueTowardsCompletion\": 0.0, \"failureMessage\": \"\", \"exceptionClass\": \"\", \"trace\": \"\", \"outcomeType\": 4}}, \"*\")"
      ],
      "text/plain": [
       "<IPython.core.display.Javascript object>"
      ]
     },
     "metadata": {},
     "output_type": "display_data"
    },
    {
     "data": {
      "text/markdown": [
       "<span style=\"color:#33cc99\">Solution:</span> \n",
       "```python\n",
       "# Define the model\n",
       "my_model_3 = XGBRegressor(n_estimators=1)\n",
       "\n",
       "# Fit the model\n",
       "my_model_3.fit(X_train, y_train)\n",
       "\n",
       "# Get predictions\n",
       "predictions_3 = my_model_3.predict(X_valid)\n",
       "\n",
       "# Calculate MAE\n",
       "mae_3 = mean_absolute_error(predictions_3, y_valid)\n",
       "print(\"Mean Absolute Error:\" , mae_3)\n",
       "\n",
       "```"
      ],
      "text/plain": [
       "Solution: \n",
       "```python\n",
       "# Define the model\n",
       "my_model_3 = XGBRegressor(n_estimators=1)\n",
       "\n",
       "# Fit the model\n",
       "my_model_3.fit(X_train, y_train)\n",
       "\n",
       "# Get predictions\n",
       "predictions_3 = my_model_3.predict(X_valid)\n",
       "\n",
       "# Calculate MAE\n",
       "mae_3 = mean_absolute_error(predictions_3, y_valid)\n",
       "print(\"Mean Absolute Error:\" , mae_3)\n",
       "\n",
       "```"
      ]
     },
     "metadata": {},
     "output_type": "display_data"
    }
   ],
   "source": [
    "# Lines below will give you a hint or solution code\n",
    "#step_3.hint()\n",
    "step_3.solution()"
   ]
  },
  {
   "cell_type": "code",
   "execution_count": 13,
   "id": "929face8",
   "metadata": {
    "execution": {
     "iopub.execute_input": "2022-05-09T22:46:06.985003Z",
     "iopub.status.busy": "2022-05-09T22:46:06.984444Z",
     "iopub.status.idle": "2022-05-09T22:46:15.895907Z",
     "shell.execute_reply": "2022-05-09T22:46:15.895254Z"
    },
    "papermill": {
     "duration": 8.945014,
     "end_time": "2022-05-09T22:46:15.898395",
     "exception": false,
     "start_time": "2022-05-09T22:46:06.953381",
     "status": "completed"
    },
    "tags": []
   },
   "outputs": [],
   "source": [
    "# Define the model\n",
    "my_model_3 = XGBRegressor(n_estimators=1000, learning_rate=0.05)\n",
    "\n",
    "# Fit the model\n",
    "my_model_3.fit(X_train, y_train)\n",
    "\n",
    "# Get predictions\n",
    "predictions_3 = my_model_3.predict(X_test)\n"
   ]
  },
  {
   "cell_type": "code",
   "execution_count": 14,
   "id": "174e0dd9",
   "metadata": {
    "execution": {
     "iopub.execute_input": "2022-05-09T22:46:15.962488Z",
     "iopub.status.busy": "2022-05-09T22:46:15.962220Z",
     "iopub.status.idle": "2022-05-09T22:46:15.974621Z",
     "shell.execute_reply": "2022-05-09T22:46:15.973918Z"
    },
    "papermill": {
     "duration": 0.045975,
     "end_time": "2022-05-09T22:46:15.976851",
     "exception": false,
     "start_time": "2022-05-09T22:46:15.930876",
     "status": "completed"
    },
    "tags": []
   },
   "outputs": [],
   "source": [
    "output = pd.DataFrame({'Id': X_test.index,\n",
    "                       'SalePrice': predictions_3})\n",
    "output.to_csv('submission.csv', index=False)"
   ]
  },
  {
   "cell_type": "markdown",
   "id": "883e7d2f",
   "metadata": {
    "papermill": {
     "duration": 0.02946,
     "end_time": "2022-05-09T22:46:16.036057",
     "exception": false,
     "start_time": "2022-05-09T22:46:16.006597",
     "status": "completed"
    },
    "tags": []
   },
   "source": [
    "# Keep going\n",
    "\n",
    "Continue to learn about **[data leakage](https://www.kaggle.com/alexisbcook/data-leakage)**.  This is an important issue for a data scientist to understand, and it has the potential to ruin your models in subtle and dangerous ways!"
   ]
  },
  {
   "cell_type": "markdown",
   "id": "9de9bad2",
   "metadata": {
    "papermill": {
     "duration": 0.029134,
     "end_time": "2022-05-09T22:46:16.094719",
     "exception": false,
     "start_time": "2022-05-09T22:46:16.065585",
     "status": "completed"
    },
    "tags": []
   },
   "source": [
    "---\n",
    "\n",
    "\n",
    "\n",
    "\n",
    "*Have questions or comments? Visit the [course discussion forum](https://www.kaggle.com/learn/intermediate-machine-learning/discussion) to chat with other learners.*"
   ]
  }
 ],
 "metadata": {
  "kernelspec": {
   "display_name": "Python 3",
   "language": "python",
   "name": "python3"
  },
  "language_info": {
   "codemirror_mode": {
    "name": "ipython",
    "version": 3
   },
   "file_extension": ".py",
   "mimetype": "text/x-python",
   "name": "python",
   "nbconvert_exporter": "python",
   "pygments_lexer": "ipython3",
   "version": "3.7.12"
  },
  "papermill": {
   "default_parameters": {},
   "duration": 34.767241,
   "end_time": "2022-05-09T22:46:16.844654",
   "environment_variables": {},
   "exception": null,
   "input_path": "__notebook__.ipynb",
   "output_path": "__notebook__.ipynb",
   "parameters": {},
   "start_time": "2022-05-09T22:45:42.077413",
   "version": "2.3.4"
  }
 },
 "nbformat": 4,
 "nbformat_minor": 5
}
