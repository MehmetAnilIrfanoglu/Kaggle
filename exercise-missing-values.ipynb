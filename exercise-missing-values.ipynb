{
 "cells": [
  {
   "cell_type": "markdown",
   "id": "48d90cac",
   "metadata": {
    "papermill": {
     "duration": 0.035636,
     "end_time": "2022-05-09T18:17:18.297862",
     "exception": false,
     "start_time": "2022-05-09T18:17:18.262226",
     "status": "completed"
    },
    "tags": []
   },
   "source": [
    "**This notebook is an exercise in the [Intermediate Machine Learning](https://www.kaggle.com/learn/intermediate-machine-learning) course.  You can reference the tutorial at [this link](https://www.kaggle.com/alexisbcook/missing-values).**\n",
    "\n",
    "---\n"
   ]
  },
  {
   "cell_type": "markdown",
   "id": "22af2cb3",
   "metadata": {
    "papermill": {
     "duration": 0.033945,
     "end_time": "2022-05-09T18:17:18.365387",
     "exception": false,
     "start_time": "2022-05-09T18:17:18.331442",
     "status": "completed"
    },
    "tags": []
   },
   "source": [
    "Now it's your turn to test your new knowledge of **missing values** handling. You'll probably find it makes a big difference.\n",
    "\n",
    "# Setup\n",
    "\n",
    "The questions will give you feedback on your work. Run the following cell to set up the feedback system."
   ]
  },
  {
   "cell_type": "code",
   "execution_count": 1,
   "id": "94068c8d",
   "metadata": {
    "execution": {
     "iopub.execute_input": "2022-05-09T18:17:18.435470Z",
     "iopub.status.busy": "2022-05-09T18:17:18.434932Z",
     "iopub.status.idle": "2022-05-09T18:17:18.492338Z",
     "shell.execute_reply": "2022-05-09T18:17:18.491401Z"
    },
    "papermill": {
     "duration": 0.09591,
     "end_time": "2022-05-09T18:17:18.495012",
     "exception": false,
     "start_time": "2022-05-09T18:17:18.399102",
     "status": "completed"
    },
    "tags": []
   },
   "outputs": [
    {
     "name": "stdout",
     "output_type": "stream",
     "text": [
      "Setup Complete\n"
     ]
    }
   ],
   "source": [
    "# Set up code checking\n",
    "import os\n",
    "if not os.path.exists(\"../input/train.csv\"):\n",
    "    os.symlink(\"../input/home-data-for-ml-course/train.csv\", \"../input/train.csv\")  \n",
    "    os.symlink(\"../input/home-data-for-ml-course/test.csv\", \"../input/test.csv\") \n",
    "from learntools.core import binder\n",
    "binder.bind(globals())\n",
    "from learntools.ml_intermediate.ex2 import *\n",
    "print(\"Setup Complete\")"
   ]
  },
  {
   "cell_type": "markdown",
   "id": "b5931e45",
   "metadata": {
    "papermill": {
     "duration": 0.034562,
     "end_time": "2022-05-09T18:17:18.564170",
     "exception": false,
     "start_time": "2022-05-09T18:17:18.529608",
     "status": "completed"
    },
    "tags": []
   },
   "source": [
    "In this exercise, you will work with data from the [Housing Prices Competition for Kaggle Learn Users](https://www.kaggle.com/c/home-data-for-ml-course). \n",
    "\n",
    "![Ames Housing dataset image](https://i.imgur.com/lTJVG4e.png)\n",
    "\n",
    "Run the next code cell without changes to load the training and validation sets in `X_train`, `X_valid`, `y_train`, and `y_valid`.  The test set is loaded in `X_test`."
   ]
  },
  {
   "cell_type": "code",
   "execution_count": 2,
   "id": "53d3097c",
   "metadata": {
    "execution": {
     "iopub.execute_input": "2022-05-09T18:17:18.638079Z",
     "iopub.status.busy": "2022-05-09T18:17:18.637326Z",
     "iopub.status.idle": "2022-05-09T18:17:19.976555Z",
     "shell.execute_reply": "2022-05-09T18:17:19.975690Z"
    },
    "papermill": {
     "duration": 1.379989,
     "end_time": "2022-05-09T18:17:19.979107",
     "exception": false,
     "start_time": "2022-05-09T18:17:18.599118",
     "status": "completed"
    },
    "tags": []
   },
   "outputs": [],
   "source": [
    "import pandas as pd\n",
    "from sklearn.model_selection import train_test_split\n",
    "\n",
    "# Read the data\n",
    "X_full = pd.read_csv('../input/train.csv', index_col='Id')\n",
    "X_test_full = pd.read_csv('../input/test.csv', index_col='Id')\n",
    "\n",
    "# Remove rows with missing target, separate target from predictors\n",
    "X_full.dropna(axis=0, subset=['SalePrice'], inplace=True)\n",
    "y = X_full.SalePrice\n",
    "X_full.drop(['SalePrice'], axis=1, inplace=True)\n",
    "\n",
    "# To keep things simple, we'll use only numerical predictors\n",
    "X = X_full.select_dtypes(exclude=['object'])\n",
    "X_test = X_test_full.select_dtypes(exclude=['object'])\n",
    "\n",
    "# Break off validation set from training data\n",
    "X_train, X_valid, y_train, y_valid = train_test_split(X, y, train_size=0.8, test_size=0.2,\n",
    "                                                      random_state=0)"
   ]
  },
  {
   "cell_type": "markdown",
   "id": "9d002ffd",
   "metadata": {
    "papermill": {
     "duration": 0.035148,
     "end_time": "2022-05-09T18:17:20.049852",
     "exception": false,
     "start_time": "2022-05-09T18:17:20.014704",
     "status": "completed"
    },
    "tags": []
   },
   "source": [
    "Use the next code cell to print the first five rows of the data."
   ]
  },
  {
   "cell_type": "code",
   "execution_count": 3,
   "id": "6fe16750",
   "metadata": {
    "execution": {
     "iopub.execute_input": "2022-05-09T18:17:20.122418Z",
     "iopub.status.busy": "2022-05-09T18:17:20.121815Z",
     "iopub.status.idle": "2022-05-09T18:17:20.150701Z",
     "shell.execute_reply": "2022-05-09T18:17:20.149865Z"
    },
    "papermill": {
     "duration": 0.068316,
     "end_time": "2022-05-09T18:17:20.153326",
     "exception": false,
     "start_time": "2022-05-09T18:17:20.085010",
     "status": "completed"
    },
    "tags": []
   },
   "outputs": [
    {
     "data": {
      "text/html": [
       "<div>\n",
       "<style scoped>\n",
       "    .dataframe tbody tr th:only-of-type {\n",
       "        vertical-align: middle;\n",
       "    }\n",
       "\n",
       "    .dataframe tbody tr th {\n",
       "        vertical-align: top;\n",
       "    }\n",
       "\n",
       "    .dataframe thead th {\n",
       "        text-align: right;\n",
       "    }\n",
       "</style>\n",
       "<table border=\"1\" class=\"dataframe\">\n",
       "  <thead>\n",
       "    <tr style=\"text-align: right;\">\n",
       "      <th></th>\n",
       "      <th>MSSubClass</th>\n",
       "      <th>LotFrontage</th>\n",
       "      <th>LotArea</th>\n",
       "      <th>OverallQual</th>\n",
       "      <th>OverallCond</th>\n",
       "      <th>YearBuilt</th>\n",
       "      <th>YearRemodAdd</th>\n",
       "      <th>MasVnrArea</th>\n",
       "      <th>BsmtFinSF1</th>\n",
       "      <th>BsmtFinSF2</th>\n",
       "      <th>...</th>\n",
       "      <th>GarageArea</th>\n",
       "      <th>WoodDeckSF</th>\n",
       "      <th>OpenPorchSF</th>\n",
       "      <th>EnclosedPorch</th>\n",
       "      <th>3SsnPorch</th>\n",
       "      <th>ScreenPorch</th>\n",
       "      <th>PoolArea</th>\n",
       "      <th>MiscVal</th>\n",
       "      <th>MoSold</th>\n",
       "      <th>YrSold</th>\n",
       "    </tr>\n",
       "    <tr>\n",
       "      <th>Id</th>\n",
       "      <th></th>\n",
       "      <th></th>\n",
       "      <th></th>\n",
       "      <th></th>\n",
       "      <th></th>\n",
       "      <th></th>\n",
       "      <th></th>\n",
       "      <th></th>\n",
       "      <th></th>\n",
       "      <th></th>\n",
       "      <th></th>\n",
       "      <th></th>\n",
       "      <th></th>\n",
       "      <th></th>\n",
       "      <th></th>\n",
       "      <th></th>\n",
       "      <th></th>\n",
       "      <th></th>\n",
       "      <th></th>\n",
       "      <th></th>\n",
       "      <th></th>\n",
       "    </tr>\n",
       "  </thead>\n",
       "  <tbody>\n",
       "    <tr>\n",
       "      <th>619</th>\n",
       "      <td>20</td>\n",
       "      <td>90.0</td>\n",
       "      <td>11694</td>\n",
       "      <td>9</td>\n",
       "      <td>5</td>\n",
       "      <td>2007</td>\n",
       "      <td>2007</td>\n",
       "      <td>452.0</td>\n",
       "      <td>48</td>\n",
       "      <td>0</td>\n",
       "      <td>...</td>\n",
       "      <td>774</td>\n",
       "      <td>0</td>\n",
       "      <td>108</td>\n",
       "      <td>0</td>\n",
       "      <td>0</td>\n",
       "      <td>260</td>\n",
       "      <td>0</td>\n",
       "      <td>0</td>\n",
       "      <td>7</td>\n",
       "      <td>2007</td>\n",
       "    </tr>\n",
       "    <tr>\n",
       "      <th>871</th>\n",
       "      <td>20</td>\n",
       "      <td>60.0</td>\n",
       "      <td>6600</td>\n",
       "      <td>5</td>\n",
       "      <td>5</td>\n",
       "      <td>1962</td>\n",
       "      <td>1962</td>\n",
       "      <td>0.0</td>\n",
       "      <td>0</td>\n",
       "      <td>0</td>\n",
       "      <td>...</td>\n",
       "      <td>308</td>\n",
       "      <td>0</td>\n",
       "      <td>0</td>\n",
       "      <td>0</td>\n",
       "      <td>0</td>\n",
       "      <td>0</td>\n",
       "      <td>0</td>\n",
       "      <td>0</td>\n",
       "      <td>8</td>\n",
       "      <td>2009</td>\n",
       "    </tr>\n",
       "    <tr>\n",
       "      <th>93</th>\n",
       "      <td>30</td>\n",
       "      <td>80.0</td>\n",
       "      <td>13360</td>\n",
       "      <td>5</td>\n",
       "      <td>7</td>\n",
       "      <td>1921</td>\n",
       "      <td>2006</td>\n",
       "      <td>0.0</td>\n",
       "      <td>713</td>\n",
       "      <td>0</td>\n",
       "      <td>...</td>\n",
       "      <td>432</td>\n",
       "      <td>0</td>\n",
       "      <td>0</td>\n",
       "      <td>44</td>\n",
       "      <td>0</td>\n",
       "      <td>0</td>\n",
       "      <td>0</td>\n",
       "      <td>0</td>\n",
       "      <td>8</td>\n",
       "      <td>2009</td>\n",
       "    </tr>\n",
       "    <tr>\n",
       "      <th>818</th>\n",
       "      <td>20</td>\n",
       "      <td>NaN</td>\n",
       "      <td>13265</td>\n",
       "      <td>8</td>\n",
       "      <td>5</td>\n",
       "      <td>2002</td>\n",
       "      <td>2002</td>\n",
       "      <td>148.0</td>\n",
       "      <td>1218</td>\n",
       "      <td>0</td>\n",
       "      <td>...</td>\n",
       "      <td>857</td>\n",
       "      <td>150</td>\n",
       "      <td>59</td>\n",
       "      <td>0</td>\n",
       "      <td>0</td>\n",
       "      <td>0</td>\n",
       "      <td>0</td>\n",
       "      <td>0</td>\n",
       "      <td>7</td>\n",
       "      <td>2008</td>\n",
       "    </tr>\n",
       "    <tr>\n",
       "      <th>303</th>\n",
       "      <td>20</td>\n",
       "      <td>118.0</td>\n",
       "      <td>13704</td>\n",
       "      <td>7</td>\n",
       "      <td>5</td>\n",
       "      <td>2001</td>\n",
       "      <td>2002</td>\n",
       "      <td>150.0</td>\n",
       "      <td>0</td>\n",
       "      <td>0</td>\n",
       "      <td>...</td>\n",
       "      <td>843</td>\n",
       "      <td>468</td>\n",
       "      <td>81</td>\n",
       "      <td>0</td>\n",
       "      <td>0</td>\n",
       "      <td>0</td>\n",
       "      <td>0</td>\n",
       "      <td>0</td>\n",
       "      <td>1</td>\n",
       "      <td>2006</td>\n",
       "    </tr>\n",
       "  </tbody>\n",
       "</table>\n",
       "<p>5 rows × 36 columns</p>\n",
       "</div>"
      ],
      "text/plain": [
       "     MSSubClass  LotFrontage  LotArea  OverallQual  OverallCond  YearBuilt  \\\n",
       "Id                                                                           \n",
       "619          20         90.0    11694            9            5       2007   \n",
       "871          20         60.0     6600            5            5       1962   \n",
       "93           30         80.0    13360            5            7       1921   \n",
       "818          20          NaN    13265            8            5       2002   \n",
       "303          20        118.0    13704            7            5       2001   \n",
       "\n",
       "     YearRemodAdd  MasVnrArea  BsmtFinSF1  BsmtFinSF2  ...  GarageArea  \\\n",
       "Id                                                     ...               \n",
       "619          2007       452.0          48           0  ...         774   \n",
       "871          1962         0.0           0           0  ...         308   \n",
       "93           2006         0.0         713           0  ...         432   \n",
       "818          2002       148.0        1218           0  ...         857   \n",
       "303          2002       150.0           0           0  ...         843   \n",
       "\n",
       "     WoodDeckSF  OpenPorchSF  EnclosedPorch  3SsnPorch  ScreenPorch  PoolArea  \\\n",
       "Id                                                                              \n",
       "619           0          108              0          0          260         0   \n",
       "871           0            0              0          0            0         0   \n",
       "93            0            0             44          0            0         0   \n",
       "818         150           59              0          0            0         0   \n",
       "303         468           81              0          0            0         0   \n",
       "\n",
       "     MiscVal  MoSold  YrSold  \n",
       "Id                            \n",
       "619        0       7    2007  \n",
       "871        0       8    2009  \n",
       "93         0       8    2009  \n",
       "818        0       7    2008  \n",
       "303        0       1    2006  \n",
       "\n",
       "[5 rows x 36 columns]"
      ]
     },
     "execution_count": 3,
     "metadata": {},
     "output_type": "execute_result"
    }
   ],
   "source": [
    "X_train.head()"
   ]
  },
  {
   "cell_type": "markdown",
   "id": "f5b5e912",
   "metadata": {
    "papermill": {
     "duration": 0.03461,
     "end_time": "2022-05-09T18:17:20.223097",
     "exception": false,
     "start_time": "2022-05-09T18:17:20.188487",
     "status": "completed"
    },
    "tags": []
   },
   "source": [
    "You can already see a few missing values in the first several rows.  In the next step, you'll obtain a more comprehensive understanding of the missing values in the dataset.\n",
    "\n",
    "# Step 1: Preliminary investigation\n",
    "\n",
    "Run the code cell below without changes."
   ]
  },
  {
   "cell_type": "code",
   "execution_count": 4,
   "id": "29bc6bb8",
   "metadata": {
    "execution": {
     "iopub.execute_input": "2022-05-09T18:17:20.294590Z",
     "iopub.status.busy": "2022-05-09T18:17:20.294061Z",
     "iopub.status.idle": "2022-05-09T18:17:20.302562Z",
     "shell.execute_reply": "2022-05-09T18:17:20.301583Z"
    },
    "papermill": {
     "duration": 0.04766,
     "end_time": "2022-05-09T18:17:20.305519",
     "exception": false,
     "start_time": "2022-05-09T18:17:20.257859",
     "status": "completed"
    },
    "tags": []
   },
   "outputs": [
    {
     "name": "stdout",
     "output_type": "stream",
     "text": [
      "(1168, 36)\n",
      "LotFrontage    212\n",
      "MasVnrArea       6\n",
      "GarageYrBlt     58\n",
      "dtype: int64\n"
     ]
    }
   ],
   "source": [
    "# Shape of training data (num_rows, num_columns)\n",
    "print(X_train.shape)\n",
    "\n",
    "# Number of missing values in each column of training data\n",
    "missing_val_count_by_column = (X_train.isnull().sum())\n",
    "print(missing_val_count_by_column[missing_val_count_by_column > 0])"
   ]
  },
  {
   "cell_type": "markdown",
   "id": "6d911924",
   "metadata": {
    "papermill": {
     "duration": 0.03707,
     "end_time": "2022-05-09T18:17:20.382008",
     "exception": false,
     "start_time": "2022-05-09T18:17:20.344938",
     "status": "completed"
    },
    "tags": []
   },
   "source": [
    "### Part A\n",
    "\n",
    "Use the above output to answer the questions below."
   ]
  },
  {
   "cell_type": "code",
   "execution_count": 5,
   "id": "337967db",
   "metadata": {
    "execution": {
     "iopub.execute_input": "2022-05-09T18:17:20.454168Z",
     "iopub.status.busy": "2022-05-09T18:17:20.453858Z",
     "iopub.status.idle": "2022-05-09T18:17:20.462433Z",
     "shell.execute_reply": "2022-05-09T18:17:20.461463Z"
    },
    "papermill": {
     "duration": 0.047298,
     "end_time": "2022-05-09T18:17:20.464553",
     "exception": false,
     "start_time": "2022-05-09T18:17:20.417255",
     "status": "completed"
    },
    "tags": []
   },
   "outputs": [
    {
     "data": {
      "application/javascript": [
       "parent.postMessage({\"jupyterEvent\": \"custom.exercise_interaction\", \"data\": {\"outcomeType\": 1, \"valueTowardsCompletion\": 1.0, \"interactionType\": 1, \"questionType\": 1, \"questionId\": \"1.1_InvestigateEquality\", \"learnToolsVersion\": \"0.3.4\", \"failureMessage\": \"\", \"exceptionClass\": \"\", \"trace\": \"\"}}, \"*\")"
      ],
      "text/plain": [
       "<IPython.core.display.Javascript object>"
      ]
     },
     "metadata": {},
     "output_type": "display_data"
    },
    {
     "data": {
      "text/markdown": [
       "<span style=\"color:#33cc33\">Correct</span>"
      ],
      "text/plain": [
       "Correct"
      ]
     },
     "metadata": {},
     "output_type": "display_data"
    }
   ],
   "source": [
    "# Fill in the line below: How many rows are in the training data?\n",
    "num_rows = 1168\n",
    "\n",
    "# Fill in the line below: How many columns in the training data\n",
    "# have missing values?\n",
    "num_cols_with_missing = 3\n",
    "\n",
    "# Fill in the line below: How many missing entries are contained in \n",
    "# all of the training data?\n",
    "tot_missing = 276\n",
    "\n",
    "# Check your answers\n",
    "step_1.a.check()"
   ]
  },
  {
   "cell_type": "code",
   "execution_count": 6,
   "id": "bafa4ba5",
   "metadata": {
    "execution": {
     "iopub.execute_input": "2022-05-09T18:17:20.539288Z",
     "iopub.status.busy": "2022-05-09T18:17:20.539008Z",
     "iopub.status.idle": "2022-05-09T18:17:20.543050Z",
     "shell.execute_reply": "2022-05-09T18:17:20.542008Z"
    },
    "papermill": {
     "duration": 0.044168,
     "end_time": "2022-05-09T18:17:20.545368",
     "exception": false,
     "start_time": "2022-05-09T18:17:20.501200",
     "status": "completed"
    },
    "tags": []
   },
   "outputs": [],
   "source": [
    "# Lines below will give you a hint or solution code\n",
    "#step_1.a.hint()\n",
    "#step_1.a.solution()"
   ]
  },
  {
   "cell_type": "markdown",
   "id": "ef47b149",
   "metadata": {
    "papermill": {
     "duration": 0.036994,
     "end_time": "2022-05-09T18:17:20.621362",
     "exception": false,
     "start_time": "2022-05-09T18:17:20.584368",
     "status": "completed"
    },
    "tags": []
   },
   "source": [
    "### Part B\n",
    "Considering your answers above, what do you think is likely the best approach to dealing with the missing values?"
   ]
  },
  {
   "cell_type": "code",
   "execution_count": 7,
   "id": "71c6b72b",
   "metadata": {
    "execution": {
     "iopub.execute_input": "2022-05-09T18:17:20.698497Z",
     "iopub.status.busy": "2022-05-09T18:17:20.698059Z",
     "iopub.status.idle": "2022-05-09T18:17:20.704558Z",
     "shell.execute_reply": "2022-05-09T18:17:20.703710Z"
    },
    "papermill": {
     "duration": 0.049041,
     "end_time": "2022-05-09T18:17:20.706733",
     "exception": false,
     "start_time": "2022-05-09T18:17:20.657692",
     "status": "completed"
    },
    "tags": []
   },
   "outputs": [
    {
     "data": {
      "application/javascript": [
       "parent.postMessage({\"jupyterEvent\": \"custom.exercise_interaction\", \"data\": {\"outcomeType\": 1, \"valueTowardsCompletion\": 1.0, \"interactionType\": 1, \"questionType\": 4, \"questionId\": \"1.2_InvestigateThought\", \"learnToolsVersion\": \"0.3.4\", \"failureMessage\": \"\", \"exceptionClass\": \"\", \"trace\": \"\"}}, \"*\")"
      ],
      "text/plain": [
       "<IPython.core.display.Javascript object>"
      ]
     },
     "metadata": {},
     "output_type": "display_data"
    },
    {
     "data": {
      "text/markdown": [
       "<span style=\"color:#33cc33\">Correct:</span> \n",
       "\n",
       "Since there are relatively few missing entries in the data (the column with the greatest percentage of missing values is missing less than 20% of its entries), we can expect that dropping columns is unlikely to yield good results.  This is because we'd be throwing away a lot of valuable data, and so imputation will likely perform better."
      ],
      "text/plain": [
       "Correct: \n",
       "\n",
       "Since there are relatively few missing entries in the data (the column with the greatest percentage of missing values is missing less than 20% of its entries), we can expect that dropping columns is unlikely to yield good results.  This is because we'd be throwing away a lot of valuable data, and so imputation will likely perform better."
      ]
     },
     "metadata": {},
     "output_type": "display_data"
    }
   ],
   "source": [
    "# Check your answer (Run this code cell to receive credit!)\n",
    "step_1.b.check()"
   ]
  },
  {
   "cell_type": "code",
   "execution_count": 8,
   "id": "19d9988d",
   "metadata": {
    "execution": {
     "iopub.execute_input": "2022-05-09T18:17:20.786138Z",
     "iopub.status.busy": "2022-05-09T18:17:20.785629Z",
     "iopub.status.idle": "2022-05-09T18:17:20.788772Z",
     "shell.execute_reply": "2022-05-09T18:17:20.788146Z"
    },
    "papermill": {
     "duration": 0.046455,
     "end_time": "2022-05-09T18:17:20.790913",
     "exception": false,
     "start_time": "2022-05-09T18:17:20.744458",
     "status": "completed"
    },
    "tags": []
   },
   "outputs": [],
   "source": [
    "#step_1.b.hint()"
   ]
  },
  {
   "cell_type": "markdown",
   "id": "35336355",
   "metadata": {
    "papermill": {
     "duration": 0.039217,
     "end_time": "2022-05-09T18:17:20.869147",
     "exception": false,
     "start_time": "2022-05-09T18:17:20.829930",
     "status": "completed"
    },
    "tags": []
   },
   "source": [
    "To compare different approaches to dealing with missing values, you'll use the same `score_dataset()` function from the tutorial.  This function reports the [mean absolute error](https://en.wikipedia.org/wiki/Mean_absolute_error) (MAE) from a random forest model."
   ]
  },
  {
   "cell_type": "code",
   "execution_count": 9,
   "id": "3860d0ab",
   "metadata": {
    "execution": {
     "iopub.execute_input": "2022-05-09T18:17:20.947143Z",
     "iopub.status.busy": "2022-05-09T18:17:20.946873Z",
     "iopub.status.idle": "2022-05-09T18:17:21.187288Z",
     "shell.execute_reply": "2022-05-09T18:17:21.186295Z"
    },
    "papermill": {
     "duration": 0.282412,
     "end_time": "2022-05-09T18:17:21.189861",
     "exception": false,
     "start_time": "2022-05-09T18:17:20.907449",
     "status": "completed"
    },
    "tags": []
   },
   "outputs": [],
   "source": [
    "from sklearn.ensemble import RandomForestRegressor\n",
    "from sklearn.metrics import mean_absolute_error\n",
    "\n",
    "# Function for comparing different approaches\n",
    "def score_dataset(X_train, X_valid, y_train, y_valid):\n",
    "    model = RandomForestRegressor(n_estimators=100, random_state=0)\n",
    "    model.fit(X_train, y_train)\n",
    "    preds = model.predict(X_valid)\n",
    "    return mean_absolute_error(y_valid, preds)"
   ]
  },
  {
   "cell_type": "markdown",
   "id": "1dd30221",
   "metadata": {
    "papermill": {
     "duration": 0.038292,
     "end_time": "2022-05-09T18:17:21.266897",
     "exception": false,
     "start_time": "2022-05-09T18:17:21.228605",
     "status": "completed"
    },
    "tags": []
   },
   "source": [
    "# Step 2: Drop columns with missing values\n",
    "\n",
    "In this step, you'll preprocess the data in `X_train` and `X_valid` to remove columns with missing values.  Set the preprocessed DataFrames to `reduced_X_train` and `reduced_X_valid`, respectively.  "
   ]
  },
  {
   "cell_type": "code",
   "execution_count": 10,
   "id": "9eddf0f3",
   "metadata": {
    "execution": {
     "iopub.execute_input": "2022-05-09T18:17:21.348737Z",
     "iopub.status.busy": "2022-05-09T18:17:21.348444Z",
     "iopub.status.idle": "2022-05-09T18:17:21.380429Z",
     "shell.execute_reply": "2022-05-09T18:17:21.379460Z"
    },
    "papermill": {
     "duration": 0.072808,
     "end_time": "2022-05-09T18:17:21.382560",
     "exception": false,
     "start_time": "2022-05-09T18:17:21.309752",
     "status": "completed"
    },
    "tags": []
   },
   "outputs": [
    {
     "data": {
      "application/javascript": [
       "parent.postMessage({\"jupyterEvent\": \"custom.exercise_interaction\", \"data\": {\"outcomeType\": 1, \"valueTowardsCompletion\": 1.0, \"interactionType\": 1, \"questionType\": 2, \"questionId\": \"2_DropMissing\", \"learnToolsVersion\": \"0.3.4\", \"failureMessage\": \"\", \"exceptionClass\": \"\", \"trace\": \"\"}}, \"*\")"
      ],
      "text/plain": [
       "<IPython.core.display.Javascript object>"
      ]
     },
     "metadata": {},
     "output_type": "display_data"
    },
    {
     "data": {
      "text/markdown": [
       "<span style=\"color:#33cc33\">Correct</span>"
      ],
      "text/plain": [
       "Correct"
      ]
     },
     "metadata": {},
     "output_type": "display_data"
    }
   ],
   "source": [
    "# Fill in the line below: get names of columns with missing values\n",
    "____ # Your code here\n",
    "cols_with_missing = [col for col in X_train.columns\n",
    "                     if X_train[col].isnull().any()]\n",
    "# Fill in the lines below: drop columns in training and validation data\n",
    "reduced_X_train = X_train.drop(cols_with_missing,axis=1)\n",
    "reduced_X_valid = X_valid.drop(cols_with_missing,axis=1)\n",
    "\n",
    "# Check your answers\n",
    "step_2.check()"
   ]
  },
  {
   "cell_type": "code",
   "execution_count": 11,
   "id": "ba71ac56",
   "metadata": {
    "execution": {
     "iopub.execute_input": "2022-05-09T18:17:21.465933Z",
     "iopub.status.busy": "2022-05-09T18:17:21.465450Z",
     "iopub.status.idle": "2022-05-09T18:17:21.468458Z",
     "shell.execute_reply": "2022-05-09T18:17:21.467790Z"
    },
    "papermill": {
     "duration": 0.04709,
     "end_time": "2022-05-09T18:17:21.470331",
     "exception": false,
     "start_time": "2022-05-09T18:17:21.423241",
     "status": "completed"
    },
    "tags": []
   },
   "outputs": [],
   "source": [
    "# Lines below will give you a hint or solution code\n",
    "#step_2.hint()\n",
    "#step_2.solution()"
   ]
  },
  {
   "cell_type": "markdown",
   "id": "05f9eb74",
   "metadata": {
    "papermill": {
     "duration": 0.042462,
     "end_time": "2022-05-09T18:17:21.555057",
     "exception": false,
     "start_time": "2022-05-09T18:17:21.512595",
     "status": "completed"
    },
    "tags": []
   },
   "source": [
    "Run the next code cell without changes to obtain the MAE for this approach."
   ]
  },
  {
   "cell_type": "code",
   "execution_count": 12,
   "id": "ac07c7ea",
   "metadata": {
    "execution": {
     "iopub.execute_input": "2022-05-09T18:17:21.638588Z",
     "iopub.status.busy": "2022-05-09T18:17:21.638277Z",
     "iopub.status.idle": "2022-05-09T18:17:22.783975Z",
     "shell.execute_reply": "2022-05-09T18:17:22.782900Z"
    },
    "papermill": {
     "duration": 1.18931,
     "end_time": "2022-05-09T18:17:22.786384",
     "exception": false,
     "start_time": "2022-05-09T18:17:21.597074",
     "status": "completed"
    },
    "tags": []
   },
   "outputs": [
    {
     "name": "stdout",
     "output_type": "stream",
     "text": [
      "MAE (Drop columns with missing values):\n",
      "17837.82570776256\n"
     ]
    }
   ],
   "source": [
    "print(\"MAE (Drop columns with missing values):\")\n",
    "print(score_dataset(reduced_X_train, reduced_X_valid, y_train, y_valid))"
   ]
  },
  {
   "cell_type": "markdown",
   "id": "74175216",
   "metadata": {
    "papermill": {
     "duration": 0.040543,
     "end_time": "2022-05-09T18:17:22.869232",
     "exception": false,
     "start_time": "2022-05-09T18:17:22.828689",
     "status": "completed"
    },
    "tags": []
   },
   "source": [
    "# Step 3: Imputation\n",
    "\n",
    "### Part A\n",
    "\n",
    "Use the next code cell to impute missing values with the mean value along each column.  Set the preprocessed DataFrames to `imputed_X_train` and `imputed_X_valid`.  Make sure that the column names match those in `X_train` and `X_valid`."
   ]
  },
  {
   "cell_type": "code",
   "execution_count": 13,
   "id": "9466c883",
   "metadata": {
    "execution": {
     "iopub.execute_input": "2022-05-09T18:17:22.951870Z",
     "iopub.status.busy": "2022-05-09T18:17:22.951321Z",
     "iopub.status.idle": "2022-05-09T18:17:22.986198Z",
     "shell.execute_reply": "2022-05-09T18:17:22.985508Z"
    },
    "papermill": {
     "duration": 0.07893,
     "end_time": "2022-05-09T18:17:22.988013",
     "exception": false,
     "start_time": "2022-05-09T18:17:22.909083",
     "status": "completed"
    },
    "tags": []
   },
   "outputs": [
    {
     "data": {
      "application/javascript": [
       "parent.postMessage({\"jupyterEvent\": \"custom.exercise_interaction\", \"data\": {\"outcomeType\": 1, \"valueTowardsCompletion\": 1.0, \"interactionType\": 1, \"questionType\": 2, \"questionId\": \"3.1_ImputeCode\", \"learnToolsVersion\": \"0.3.4\", \"failureMessage\": \"\", \"exceptionClass\": \"\", \"trace\": \"\"}}, \"*\")"
      ],
      "text/plain": [
       "<IPython.core.display.Javascript object>"
      ]
     },
     "metadata": {},
     "output_type": "display_data"
    },
    {
     "data": {
      "text/markdown": [
       "<span style=\"color:#33cc33\">Correct</span>"
      ],
      "text/plain": [
       "Correct"
      ]
     },
     "metadata": {},
     "output_type": "display_data"
    }
   ],
   "source": [
    "from sklearn.impute import SimpleImputer\n",
    "\n",
    "my_imputer = SimpleImputer()\n",
    "\n",
    "imputed_X_train = pd.DataFrame(my_imputer.fit_transform(X_train))\n",
    "imputed_X_valid = pd.DataFrame(my_imputer.transform(X_valid))\n",
    "\n",
    "# Fill in the lines below: imputation removed column names; put them back\n",
    "imputed_X_train.columns = X_train.columns\n",
    "imputed_X_valid.columns = X_valid.columns\n",
    "\n",
    "# Check your answers\n",
    "step_3.a.check()"
   ]
  },
  {
   "cell_type": "code",
   "execution_count": 14,
   "id": "03e1a46a",
   "metadata": {
    "execution": {
     "iopub.execute_input": "2022-05-09T18:17:23.073296Z",
     "iopub.status.busy": "2022-05-09T18:17:23.072881Z",
     "iopub.status.idle": "2022-05-09T18:17:23.075610Z",
     "shell.execute_reply": "2022-05-09T18:17:23.075044Z"
    },
    "papermill": {
     "duration": 0.047965,
     "end_time": "2022-05-09T18:17:23.077388",
     "exception": false,
     "start_time": "2022-05-09T18:17:23.029423",
     "status": "completed"
    },
    "tags": []
   },
   "outputs": [],
   "source": [
    "# Lines below will give you a hint or solution code\n",
    "#step_3.a.hint()\n",
    "#step_3.a.solution()"
   ]
  },
  {
   "cell_type": "markdown",
   "id": "d2f7b21c",
   "metadata": {
    "papermill": {
     "duration": 0.040891,
     "end_time": "2022-05-09T18:17:23.160299",
     "exception": false,
     "start_time": "2022-05-09T18:17:23.119408",
     "status": "completed"
    },
    "tags": []
   },
   "source": [
    "Run the next code cell without changes to obtain the MAE for this approach."
   ]
  },
  {
   "cell_type": "code",
   "execution_count": 15,
   "id": "98110928",
   "metadata": {
    "execution": {
     "iopub.execute_input": "2022-05-09T18:17:23.244589Z",
     "iopub.status.busy": "2022-05-09T18:17:23.244173Z",
     "iopub.status.idle": "2022-05-09T18:17:24.504185Z",
     "shell.execute_reply": "2022-05-09T18:17:24.503115Z"
    },
    "papermill": {
     "duration": 1.304871,
     "end_time": "2022-05-09T18:17:24.506542",
     "exception": false,
     "start_time": "2022-05-09T18:17:23.201671",
     "status": "completed"
    },
    "tags": []
   },
   "outputs": [
    {
     "name": "stdout",
     "output_type": "stream",
     "text": [
      "MAE (Imputation):\n",
      "18062.894611872147\n"
     ]
    }
   ],
   "source": [
    "print(\"MAE (Imputation):\")\n",
    "print(score_dataset(imputed_X_train, imputed_X_valid, y_train, y_valid))"
   ]
  },
  {
   "cell_type": "markdown",
   "id": "5054e6ef",
   "metadata": {
    "papermill": {
     "duration": 0.043134,
     "end_time": "2022-05-09T18:17:24.591965",
     "exception": false,
     "start_time": "2022-05-09T18:17:24.548831",
     "status": "completed"
    },
    "tags": []
   },
   "source": [
    "### Part B\n",
    "\n",
    "Compare the MAE from each approach.  Does anything surprise you about the results?  Why do you think one approach performed better than the other?"
   ]
  },
  {
   "cell_type": "code",
   "execution_count": 16,
   "id": "9a44c55e",
   "metadata": {
    "execution": {
     "iopub.execute_input": "2022-05-09T18:17:24.678893Z",
     "iopub.status.busy": "2022-05-09T18:17:24.678540Z",
     "iopub.status.idle": "2022-05-09T18:17:24.686521Z",
     "shell.execute_reply": "2022-05-09T18:17:24.685894Z"
    },
    "papermill": {
     "duration": 0.054378,
     "end_time": "2022-05-09T18:17:24.688632",
     "exception": false,
     "start_time": "2022-05-09T18:17:24.634254",
     "status": "completed"
    },
    "tags": []
   },
   "outputs": [
    {
     "data": {
      "application/javascript": [
       "parent.postMessage({\"jupyterEvent\": \"custom.exercise_interaction\", \"data\": {\"outcomeType\": 1, \"valueTowardsCompletion\": 1.0, \"interactionType\": 1, \"questionType\": 4, \"questionId\": \"3.2_ImputeThought\", \"learnToolsVersion\": \"0.3.4\", \"failureMessage\": \"\", \"exceptionClass\": \"\", \"trace\": \"\"}}, \"*\")"
      ],
      "text/plain": [
       "<IPython.core.display.Javascript object>"
      ]
     },
     "metadata": {},
     "output_type": "display_data"
    },
    {
     "data": {
      "text/markdown": [
       "<span style=\"color:#33cc33\">Correct:</span> \n",
       "\n",
       "Given that thre are so few missing values in the dataset, we'd expect imputation to perform better than dropping columns entirely.  However, we see that dropping columns performs slightly better!  While this can probably partially be attributed to noise in the dataset, another potential explanation is that the imputation method is not a great match to this dataset.  That is, maybe instead of filling in the mean value, it makes more sense to set every missing value to a value of 0, to fill in the most frequently encountered value, or to use some other method.  For instance, consider the `GarageYrBlt` column (which indicates the year that the garage was built).  It's likely that in some cases, a missing value could indicate a house that does not have a garage.  Does it make more sense to fill in the median value along each column in this case?  Or could we get better results by filling in the minimum value along each column?  It's not quite clear what's best in this case, but perhaps we can rule out some options immediately - for instance, setting missing values in this column to 0 is likely to yield horrible results!"
      ],
      "text/plain": [
       "Correct: \n",
       "\n",
       "Given that thre are so few missing values in the dataset, we'd expect imputation to perform better than dropping columns entirely.  However, we see that dropping columns performs slightly better!  While this can probably partially be attributed to noise in the dataset, another potential explanation is that the imputation method is not a great match to this dataset.  That is, maybe instead of filling in the mean value, it makes more sense to set every missing value to a value of 0, to fill in the most frequently encountered value, or to use some other method.  For instance, consider the `GarageYrBlt` column (which indicates the year that the garage was built).  It's likely that in some cases, a missing value could indicate a house that does not have a garage.  Does it make more sense to fill in the median value along each column in this case?  Or could we get better results by filling in the minimum value along each column?  It's not quite clear what's best in this case, but perhaps we can rule out some options immediately - for instance, setting missing values in this column to 0 is likely to yield horrible results!"
      ]
     },
     "metadata": {},
     "output_type": "display_data"
    }
   ],
   "source": [
    "# Check your answer (Run this code cell to receive credit!)\n",
    "step_3.b.check()"
   ]
  },
  {
   "cell_type": "code",
   "execution_count": 17,
   "id": "d08e8b1a",
   "metadata": {
    "execution": {
     "iopub.execute_input": "2022-05-09T18:17:24.777245Z",
     "iopub.status.busy": "2022-05-09T18:17:24.776927Z",
     "iopub.status.idle": "2022-05-09T18:17:24.780880Z",
     "shell.execute_reply": "2022-05-09T18:17:24.780012Z"
    },
    "papermill": {
     "duration": 0.050316,
     "end_time": "2022-05-09T18:17:24.782871",
     "exception": false,
     "start_time": "2022-05-09T18:17:24.732555",
     "status": "completed"
    },
    "tags": []
   },
   "outputs": [],
   "source": [
    "#step_3.b.hint()"
   ]
  },
  {
   "cell_type": "markdown",
   "id": "845e2350",
   "metadata": {
    "papermill": {
     "duration": 0.043418,
     "end_time": "2022-05-09T18:17:24.872453",
     "exception": false,
     "start_time": "2022-05-09T18:17:24.829035",
     "status": "completed"
    },
    "tags": []
   },
   "source": [
    "# Step 4: Generate test predictions\n",
    "\n",
    "In this final step, you'll use any approach of your choosing to deal with missing values.  Once you've preprocessed the training and validation features, you'll train and evaluate a random forest model.  Then, you'll preprocess the test data before generating predictions that can be submitted to the competition!\n",
    "\n",
    "### Part A\n",
    "\n",
    "Use the next code cell to preprocess the training and validation data.  Set the preprocessed DataFrames to `final_X_train` and `final_X_valid`.  **You can use any approach of your choosing here!**  in order for this step to be marked as correct, you need only ensure:\n",
    "- the preprocessed DataFrames have the same number of columns,\n",
    "- the preprocessed DataFrames have no missing values, \n",
    "- `final_X_train` and `y_train` have the same number of rows, and\n",
    "- `final_X_valid` and `y_valid` have the same number of rows."
   ]
  },
  {
   "cell_type": "code",
   "execution_count": 18,
   "id": "fffdd1b4",
   "metadata": {
    "execution": {
     "iopub.execute_input": "2022-05-09T18:17:24.962042Z",
     "iopub.status.busy": "2022-05-09T18:17:24.961326Z",
     "iopub.status.idle": "2022-05-09T18:17:24.993258Z",
     "shell.execute_reply": "2022-05-09T18:17:24.992483Z"
    },
    "papermill": {
     "duration": 0.078695,
     "end_time": "2022-05-09T18:17:24.995297",
     "exception": false,
     "start_time": "2022-05-09T18:17:24.916602",
     "status": "completed"
    },
    "tags": []
   },
   "outputs": [
    {
     "data": {
      "application/javascript": [
       "parent.postMessage({\"jupyterEvent\": \"custom.exercise_interaction\", \"data\": {\"outcomeType\": 1, \"valueTowardsCompletion\": 1.0, \"interactionType\": 1, \"questionType\": 2, \"questionId\": \"4.1_PredsCodeA\", \"learnToolsVersion\": \"0.3.4\", \"failureMessage\": \"\", \"exceptionClass\": \"\", \"trace\": \"\"}}, \"*\")"
      ],
      "text/plain": [
       "<IPython.core.display.Javascript object>"
      ]
     },
     "metadata": {},
     "output_type": "display_data"
    },
    {
     "data": {
      "text/markdown": [
       "<span style=\"color:#33cc33\">Correct</span>"
      ],
      "text/plain": [
       "Correct"
      ]
     },
     "metadata": {},
     "output_type": "display_data"
    }
   ],
   "source": [
    "# Imputation\n",
    "final_imputer = SimpleImputer(strategy='median')\n",
    "final_X_train = pd.DataFrame(final_imputer.fit_transform(X_train))\n",
    "final_X_valid = pd.DataFrame(final_imputer.transform(X_valid))\n",
    "\n",
    "# Imputation removed column names; put them back\n",
    "final_X_train.columns = X_train.columns\n",
    "final_X_valid.columns = X_valid.columns\n",
    "# Check your answers\n",
    "step_4.a.check()"
   ]
  },
  {
   "cell_type": "code",
   "execution_count": 19,
   "id": "6704762f",
   "metadata": {
    "execution": {
     "iopub.execute_input": "2022-05-09T18:17:25.088690Z",
     "iopub.status.busy": "2022-05-09T18:17:25.088371Z",
     "iopub.status.idle": "2022-05-09T18:17:25.091815Z",
     "shell.execute_reply": "2022-05-09T18:17:25.090983Z"
    },
    "papermill": {
     "duration": 0.05245,
     "end_time": "2022-05-09T18:17:25.093842",
     "exception": false,
     "start_time": "2022-05-09T18:17:25.041392",
     "status": "completed"
    },
    "tags": []
   },
   "outputs": [],
   "source": [
    "# Lines below will give you a hint or solution code\n",
    "#step_4.a.hint()\n",
    "#step_4.a.solution()"
   ]
  },
  {
   "cell_type": "markdown",
   "id": "3a76743c",
   "metadata": {
    "papermill": {
     "duration": 0.047867,
     "end_time": "2022-05-09T18:17:25.186777",
     "exception": false,
     "start_time": "2022-05-09T18:17:25.138910",
     "status": "completed"
    },
    "tags": []
   },
   "source": [
    "Run the next code cell to train and evaluate a random forest model.  (*Note that we don't use the `score_dataset()` function above, because we will soon use the trained model to generate test predictions!*)"
   ]
  },
  {
   "cell_type": "code",
   "execution_count": 20,
   "id": "e62366b8",
   "metadata": {
    "execution": {
     "iopub.execute_input": "2022-05-09T18:17:25.277305Z",
     "iopub.status.busy": "2022-05-09T18:17:25.276466Z",
     "iopub.status.idle": "2022-05-09T18:17:26.531547Z",
     "shell.execute_reply": "2022-05-09T18:17:26.530522Z"
    },
    "papermill": {
     "duration": 1.303152,
     "end_time": "2022-05-09T18:17:26.534108",
     "exception": false,
     "start_time": "2022-05-09T18:17:25.230956",
     "status": "completed"
    },
    "tags": []
   },
   "outputs": [
    {
     "name": "stdout",
     "output_type": "stream",
     "text": [
      "MAE (Your approach):\n",
      "17791.59899543379\n"
     ]
    }
   ],
   "source": [
    "# Define and fit model\n",
    "model = RandomForestRegressor(n_estimators=100, random_state=0)\n",
    "model.fit(final_X_train, y_train)\n",
    "\n",
    "# Get validation predictions and MAE\n",
    "preds_valid = model.predict(final_X_valid)\n",
    "print(\"MAE (Your approach):\")\n",
    "print(mean_absolute_error(y_valid, preds_valid))"
   ]
  },
  {
   "cell_type": "markdown",
   "id": "d66a1848",
   "metadata": {
    "papermill": {
     "duration": 0.045013,
     "end_time": "2022-05-09T18:17:26.626159",
     "exception": false,
     "start_time": "2022-05-09T18:17:26.581146",
     "status": "completed"
    },
    "tags": []
   },
   "source": [
    "### Part B\n",
    "\n",
    "Use the next code cell to preprocess your test data.  Make sure that you use a method that agrees with how you preprocessed the training and validation data, and set the preprocessed test features to `final_X_test`.\n",
    "\n",
    "Then, use the preprocessed test features and the trained model to generate test predictions in `preds_test`.\n",
    "\n",
    "In order for this step to be marked correct, you need only ensure:\n",
    "- the preprocessed test DataFrame has no missing values, and\n",
    "- `final_X_test` has the same number of rows as `X_test`."
   ]
  },
  {
   "cell_type": "code",
   "execution_count": 21,
   "id": "305c3205",
   "metadata": {
    "execution": {
     "iopub.execute_input": "2022-05-09T18:17:26.721939Z",
     "iopub.status.busy": "2022-05-09T18:17:26.721314Z",
     "iopub.status.idle": "2022-05-09T18:17:26.781569Z",
     "shell.execute_reply": "2022-05-09T18:17:26.780964Z"
    },
    "papermill": {
     "duration": 0.112421,
     "end_time": "2022-05-09T18:17:26.783538",
     "exception": false,
     "start_time": "2022-05-09T18:17:26.671117",
     "status": "completed"
    },
    "tags": []
   },
   "outputs": [
    {
     "name": "stderr",
     "output_type": "stream",
     "text": [
      "/opt/conda/lib/python3.7/site-packages/sklearn/base.py:451: UserWarning: X does not have valid feature names, but RandomForestRegressor was fitted with feature names\n",
      "  \"X does not have valid feature names, but\"\n"
     ]
    },
    {
     "data": {
      "application/javascript": [
       "parent.postMessage({\"jupyterEvent\": \"custom.exercise_interaction\", \"data\": {\"outcomeType\": 1, \"valueTowardsCompletion\": 1.0, \"interactionType\": 1, \"questionType\": 2, \"questionId\": \"4.2_PredsCodeB\", \"learnToolsVersion\": \"0.3.4\", \"failureMessage\": \"\", \"exceptionClass\": \"\", \"trace\": \"\"}}, \"*\")"
      ],
      "text/plain": [
       "<IPython.core.display.Javascript object>"
      ]
     },
     "metadata": {},
     "output_type": "display_data"
    },
    {
     "data": {
      "text/markdown": [
       "<span style=\"color:#33cc33\">Correct</span>"
      ],
      "text/plain": [
       "Correct"
      ]
     },
     "metadata": {},
     "output_type": "display_data"
    }
   ],
   "source": [
    "# Preprocess test data\n",
    "final_X_test = pd.DataFrame(final_imputer.transform(X_test))\n",
    "\n",
    "# Get test predictions\n",
    "preds_test = model.predict(final_X_test)\n",
    "\n",
    "# Check your answers\n",
    "step_4.b.check()"
   ]
  },
  {
   "cell_type": "code",
   "execution_count": 22,
   "id": "7d02461a",
   "metadata": {
    "execution": {
     "iopub.execute_input": "2022-05-09T18:17:26.880130Z",
     "iopub.status.busy": "2022-05-09T18:17:26.879533Z",
     "iopub.status.idle": "2022-05-09T18:17:26.883284Z",
     "shell.execute_reply": "2022-05-09T18:17:26.882669Z"
    },
    "papermill": {
     "duration": 0.054808,
     "end_time": "2022-05-09T18:17:26.885371",
     "exception": false,
     "start_time": "2022-05-09T18:17:26.830563",
     "status": "completed"
    },
    "tags": []
   },
   "outputs": [],
   "source": [
    "# Lines below will give you a hint or solution code\n",
    "#step_4.b.hint()\n",
    "#step_4.b.solution()"
   ]
  },
  {
   "cell_type": "markdown",
   "id": "a82d7a3f",
   "metadata": {
    "papermill": {
     "duration": 0.055517,
     "end_time": "2022-05-09T18:17:26.995495",
     "exception": false,
     "start_time": "2022-05-09T18:17:26.939978",
     "status": "completed"
    },
    "tags": []
   },
   "source": [
    "Run the next code cell without changes to save your results to a CSV file that can be submitted directly to the competition."
   ]
  },
  {
   "cell_type": "code",
   "execution_count": 23,
   "id": "108934b7",
   "metadata": {
    "execution": {
     "iopub.execute_input": "2022-05-09T18:17:27.093129Z",
     "iopub.status.busy": "2022-05-09T18:17:27.092524Z",
     "iopub.status.idle": "2022-05-09T18:17:27.105573Z",
     "shell.execute_reply": "2022-05-09T18:17:27.104891Z"
    },
    "papermill": {
     "duration": 0.06454,
     "end_time": "2022-05-09T18:17:27.108000",
     "exception": false,
     "start_time": "2022-05-09T18:17:27.043460",
     "status": "completed"
    },
    "tags": []
   },
   "outputs": [],
   "source": [
    "# Save test predictions to file\n",
    "output = pd.DataFrame({'Id': X_test.index,\n",
    "                       'SalePrice': preds_test})\n",
    "output.to_csv('submission.csv', index=False)"
   ]
  },
  {
   "cell_type": "markdown",
   "id": "aa99a23d",
   "metadata": {
    "papermill": {
     "duration": 0.0463,
     "end_time": "2022-05-09T18:17:27.200736",
     "exception": false,
     "start_time": "2022-05-09T18:17:27.154436",
     "status": "completed"
    },
    "tags": []
   },
   "source": [
    "# Submit your results\n",
    "\n",
    "Once you have successfully completed Step 4, you're ready to submit your results to the leaderboard!  (_You also learned how to do this in the previous exercise.  If you need a reminder of how to do this, please use the instructions below._)  \n",
    "\n",
    "First, you'll need to join the competition if you haven't already.  So open a new window by clicking on [this link](https://www.kaggle.com/c/home-data-for-ml-course).  Then click on the **Join Competition** button.\n",
    "\n",
    "![join competition image](https://i.imgur.com/wLmFtH3.png)\n",
    "\n",
    "Next, follow the instructions below:\n",
    "1. Begin by clicking on the **Save Version** button in the top right corner of the window.  This will generate a pop-up window.  \n",
    "2. Ensure that the **Save and Run All** option is selected, and then click on the **Save** button.\n",
    "3. This generates a window in the bottom left corner of the notebook.  After it has finished running, click on the number to the right of the **Save Version** button.  This pulls up a list of versions on the right of the screen.  Click on the ellipsis **(...)** to the right of the most recent version, and select **Open in Viewer**.  This brings you into view mode of the same page. You will need to scroll down to get back to these instructions.\n",
    "4. Click on the **Output** tab on the right of the screen.  Then, click on the file you would like to submit, and click on the **Submit** button to submit your results to the leaderboard.\n",
    "\n",
    "You have now successfully submitted to the competition!\n",
    "\n",
    "If you want to keep working to improve your performance, select the **Edit** button in the top right of the screen. Then you can change your code and repeat the process. There's a lot of room to improve, and you will climb up the leaderboard as you work.\n",
    "\n",
    "\n",
    "# Keep going\n",
    "\n",
    "Move on to learn what **[categorical variables](https://www.kaggle.com/alexisbcook/categorical-variables)** are, along with how to incorporate them into your machine learning models.  Categorical variables are very common in real-world data, but you'll get an error if you try to plug them into your models without processing them first!"
   ]
  },
  {
   "cell_type": "markdown",
   "id": "673ca74f",
   "metadata": {
    "papermill": {
     "duration": 0.046406,
     "end_time": "2022-05-09T18:17:27.293536",
     "exception": false,
     "start_time": "2022-05-09T18:17:27.247130",
     "status": "completed"
    },
    "tags": []
   },
   "source": [
    "---\n",
    "\n",
    "\n",
    "\n",
    "\n",
    "*Have questions or comments? Visit the [course discussion forum](https://www.kaggle.com/learn/intermediate-machine-learning/discussion) to chat with other learners.*"
   ]
  }
 ],
 "metadata": {
  "kernelspec": {
   "display_name": "Python 3",
   "language": "python",
   "name": "python3"
  },
  "language_info": {
   "codemirror_mode": {
    "name": "ipython",
    "version": 3
   },
   "file_extension": ".py",
   "mimetype": "text/x-python",
   "name": "python",
   "nbconvert_exporter": "python",
   "pygments_lexer": "ipython3",
   "version": "3.7.12"
  },
  "papermill": {
   "default_parameters": {},
   "duration": 20.361868,
   "end_time": "2022-05-09T18:17:28.063744",
   "environment_variables": {},
   "exception": null,
   "input_path": "__notebook__.ipynb",
   "output_path": "__notebook__.ipynb",
   "parameters": {},
   "start_time": "2022-05-09T18:17:07.701876",
   "version": "2.3.4"
  }
 },
 "nbformat": 4,
 "nbformat_minor": 5
}
